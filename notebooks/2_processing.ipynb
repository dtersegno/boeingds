{
 "cells": [
  {
   "cell_type": "markdown",
   "id": "4b17cee5",
   "metadata": {},
   "source": [
    "Processing\n",
    "---\n",
    "\n",
    "This notebook prepares the data for modeling. Null values in numeric data are imputed. Lists of car features are cleaned and consolidated (for example, colors `black` and `Black` are considered the same). Strings and lists of string features are split, and the most common are made into dummies."
   ]
  },
  {
   "cell_type": "code",
   "execution_count": 4,
   "id": "eab001e0",
   "metadata": {},
   "outputs": [],
   "source": [
    "#import libraries\n",
    "import os\n",
    "import pandas as pd\n",
    "import matplotlib.pyplot as plt\n",
    "import numpy as np\n",
    "# import sklearn\n",
    "\n",
    "#display options\n",
    "pd.options.display.max_rows = 40\n",
    "%matplotlib inline\n",
    "plt.style.use('dark_background')"
   ]
  },
  {
   "cell_type": "code",
   "execution_count": 5,
   "id": "fb762e62",
   "metadata": {},
   "outputs": [
    {
     "name": "stdout",
     "output_type": "stream",
     "text": [
      "<class 'pandas.core.frame.DataFrame'>\n",
      "RangeIndex: 6298 entries, 0 to 6297\n",
      "Data columns (total 29 columns):\n",
      " #   Column                Non-Null Count  Dtype  \n",
      "---  ------                --------------  -----  \n",
      " 0   ListingID             6298 non-null   int64  \n",
      " 1   SellerCity            6298 non-null   object \n",
      " 2   SellerIsPriv          6298 non-null   bool   \n",
      " 3   SellerListSrc         6296 non-null   object \n",
      " 4   SellerName            6298 non-null   object \n",
      " 5   SellerRating          6298 non-null   float64\n",
      " 6   SellerRevCnt          6298 non-null   int64  \n",
      " 7   SellerState           6298 non-null   object \n",
      " 8   SellerZip             6296 non-null   float64\n",
      " 9   VehBodystyle          6298 non-null   object \n",
      " 10  VehCertified          6298 non-null   bool   \n",
      " 11  VehColorExt           6225 non-null   object \n",
      " 12  VehColorInt           5570 non-null   object \n",
      " 13  VehDriveTrain         5897 non-null   object \n",
      " 14  VehEngine             5937 non-null   object \n",
      " 15  VehFeats              6023 non-null   object \n",
      " 16  VehFuel               6296 non-null   object \n",
      " 17  VehHistory            6097 non-null   object \n",
      " 18  VehListdays           6296 non-null   float64\n",
      " 19  VehMake               6298 non-null   object \n",
      " 20  VehMileage            6296 non-null   float64\n",
      " 21  VehModel              6298 non-null   object \n",
      " 22  VehPriceLabel         6013 non-null   object \n",
      " 23  VehSellerNotes        6055 non-null   object \n",
      " 24  VehType               6298 non-null   object \n",
      " 25  VehTransmission       6101 non-null   object \n",
      " 26  VehYear               6298 non-null   int64  \n",
      " 27  Vehicle_Trim          5893 non-null   object \n",
      " 28  Dealer_Listing_Price  6246 non-null   float64\n",
      "dtypes: bool(2), float64(5), int64(3), object(19)\n",
      "memory usage: 1.3+ MB\n"
     ]
    }
   ],
   "source": [
    "#import data\n",
    "data_path = '../data/'\n",
    "train_data_filename = 'Training_DataSet.csv'\n",
    "test_data_filename = 'Test_Dataset.csv'\n",
    "\n",
    "traindf = pd.read_csv(data_path + train_data_filename)\n",
    "traindf.info()"
   ]
  },
  {
   "cell_type": "code",
   "execution_count": null,
   "id": "36a0ebd1",
   "metadata": {},
   "outputs": [],
   "source": []
  }
 ],
 "metadata": {
  "kernelspec": {
   "display_name": "Python 3 (ipykernel)",
   "language": "python",
   "name": "python3"
  },
  "language_info": {
   "codemirror_mode": {
    "name": "ipython",
    "version": 3
   },
   "file_extension": ".py",
   "mimetype": "text/x-python",
   "name": "python",
   "nbconvert_exporter": "python",
   "pygments_lexer": "ipython3",
   "version": "3.9.7"
  }
 },
 "nbformat": 4,
 "nbformat_minor": 5
}
