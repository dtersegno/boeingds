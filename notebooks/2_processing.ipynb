{
 "cells": [
  {
   "cell_type": "markdown",
   "id": "2b884667",
   "metadata": {},
   "source": [
    "Processing\n",
    "---\n",
    "\n",
    "This notebook prepares the data for modeling. Null values in numeric data are imputed. Lists of car features are cleaned and consolidated (for example, colors `black` and `Black` are considered the same). Strings and lists of string features are split, and the most common are made into dummies."
   ]
  },
  {
   "cell_type": "code",
   "execution_count": 1,
   "id": "db4353e6",
   "metadata": {},
   "outputs": [],
   "source": [
    "#import libraries\n",
    "import os\n",
    "import pandas as pd\n",
    "import matplotlib.pyplot as plt\n",
    "import numpy as np\n",
    "# import sklearn\n",
    "\n",
    "#display options\n",
    "pd.options.display.max_columns = 40\n",
    "%matplotlib inline\n",
    "plt.style.use('dark_background')"
   ]
  },
  {
   "cell_type": "code",
   "execution_count": 2,
   "id": "069f02b7",
   "metadata": {},
   "outputs": [
    {
     "name": "stdout",
     "output_type": "stream",
     "text": [
      "<class 'pandas.core.frame.DataFrame'>\n",
      "RangeIndex: 6298 entries, 0 to 6297\n",
      "Data columns (total 29 columns):\n",
      " #   Column                Non-Null Count  Dtype  \n",
      "---  ------                --------------  -----  \n",
      " 0   ListingID             6298 non-null   int64  \n",
      " 1   SellerCity            6298 non-null   object \n",
      " 2   SellerIsPriv          6298 non-null   bool   \n",
      " 3   SellerListSrc         6296 non-null   object \n",
      " 4   SellerName            6298 non-null   object \n",
      " 5   SellerRating          6298 non-null   float64\n",
      " 6   SellerRevCnt          6298 non-null   int64  \n",
      " 7   SellerState           6298 non-null   object \n",
      " 8   SellerZip             6296 non-null   float64\n",
      " 9   VehBodystyle          6298 non-null   object \n",
      " 10  VehCertified          6298 non-null   bool   \n",
      " 11  VehColorExt           6225 non-null   object \n",
      " 12  VehColorInt           5570 non-null   object \n",
      " 13  VehDriveTrain         5897 non-null   object \n",
      " 14  VehEngine             5937 non-null   object \n",
      " 15  VehFeats              6023 non-null   object \n",
      " 16  VehFuel               6296 non-null   object \n",
      " 17  VehHistory            6097 non-null   object \n",
      " 18  VehListdays           6296 non-null   float64\n",
      " 19  VehMake               6298 non-null   object \n",
      " 20  VehMileage            6296 non-null   float64\n",
      " 21  VehModel              6298 non-null   object \n",
      " 22  VehPriceLabel         6013 non-null   object \n",
      " 23  VehSellerNotes        6055 non-null   object \n",
      " 24  VehType               6298 non-null   object \n",
      " 25  VehTransmission       6101 non-null   object \n",
      " 26  VehYear               6298 non-null   int64  \n",
      " 27  Vehicle_Trim          5893 non-null   object \n",
      " 28  Dealer_Listing_Price  6246 non-null   float64\n",
      "dtypes: bool(2), float64(5), int64(3), object(19)\n",
      "memory usage: 1.3+ MB\n"
     ]
    }
   ],
   "source": [
    "#import data\n",
    "data_path = '../data/'\n",
    "train_data_filename = 'Training_DataSet.csv'\n",
    "test_data_filename = 'Test_Dataset.csv'\n",
    "\n",
    "traindf = pd.read_csv(data_path + train_data_filename)\n",
    "\n",
    "\n",
    "#copy training data to a new dataframe to use for modeling\n",
    "traindf_proc = traindf.copy()\n",
    "traindf_proc.info()"
   ]
  },
  {
   "cell_type": "markdown",
   "id": "fb114e09",
   "metadata": {},
   "source": [
    "---\n",
    "# Processing feature by feature"
   ]
  },
  {
   "cell_type": "markdown",
   "id": "0efaad5b",
   "metadata": {},
   "source": [
    "# ListingID\n",
    "\n",
    "drop it."
   ]
  },
  {
   "cell_type": "code",
   "execution_count": 3,
   "id": "ce6bd755",
   "metadata": {},
   "outputs": [],
   "source": [
    "#keep track to drop later.\n",
    "columns_to_drop = ['ListingID']"
   ]
  },
  {
   "cell_type": "markdown",
   "id": "4d0dcdf0",
   "metadata": {},
   "source": [
    "\n",
    "\n",
    "## SellerCity\n",
    "Although SellerCity did not appear to influence the average dealer listing price, it is possible that patterns with SellerCity could be paired with other features to derive the value. This will not be effective in a linear regression model but could be grabbed onto in a decision tree / NN / etc."
   ]
  },
  {
   "cell_type": "code",
   "execution_count": 4,
   "id": "4f30de11",
   "metadata": {},
   "outputs": [
    {
     "data": {
      "text/plain": [
       "Index(['Chicago', 'Battle Creek', 'Columbus', 'Louisville', 'Houston',\n",
       "       'Atlanta', 'Richmond', 'Raleigh', 'Indianapolis', 'Vienna',\n",
       "       'Cincinnati', 'Dallas', 'White Bear Lake', 'Palmyra', 'Rochester',\n",
       "       'Nashville', 'Milwaukee', 'St. Louis', 'Lexington', 'Pittsburgh'],\n",
       "      dtype='object')"
      ]
     },
     "execution_count": 4,
     "metadata": {},
     "output_type": "execute_result"
    }
   ],
   "source": [
    "#make dummies for Seller Cities with the most sales in the training set.\n",
    "#perhaps a bit arbitrary, but let's cut it off at cities above 30 sales.\n",
    "#that's the first 20 common cities.\n",
    "cities = traindf['SellerCity'].value_counts(ascending= False)[:20]\n",
    "cities = cities.index\n",
    "cities"
   ]
  },
  {
   "cell_type": "code",
   "execution_count": 5,
   "id": "4f1bdd79",
   "metadata": {},
   "outputs": [],
   "source": [
    "# takes a dataframe, a column to expand upon, and a list of values for that column to make dummies.\n",
    "# any value in the column that is not in the dummy_list will be ignored\n",
    "\n",
    "#the purpose of this is to make the same ordered columns in the training set as in any test set. Otherwise,\n",
    "#the dummy columns may notinclude the same cities, if there is a different frequency distribution,\n",
    "#or if a certain city isn't represented.\n",
    "def make_specific_dummies(df, column, dummy_list):\n",
    "    #make a copy so we don't change the original\n",
    "    df2 = df.copy()\n",
    "    #remove any entries in column that aren't in the dummy list\n",
    "    for dummy_value in dummy_list:\n",
    "        df2[column + '_' + str(dummy_value)] = df2[column].apply(lambda entry: 1 if entry == dummy_value else 0)\n",
    "    return df2.drop(columns = column)\n",
    "    "
   ]
  },
  {
   "cell_type": "code",
   "execution_count": 6,
   "id": "ae9f994f",
   "metadata": {
    "scrolled": true
   },
   "outputs": [
    {
     "data": {
      "text/html": [
       "<div>\n",
       "<style scoped>\n",
       "    .dataframe tbody tr th:only-of-type {\n",
       "        vertical-align: middle;\n",
       "    }\n",
       "\n",
       "    .dataframe tbody tr th {\n",
       "        vertical-align: top;\n",
       "    }\n",
       "\n",
       "    .dataframe thead th {\n",
       "        text-align: right;\n",
       "    }\n",
       "</style>\n",
       "<table border=\"1\" class=\"dataframe\">\n",
       "  <thead>\n",
       "    <tr style=\"text-align: right;\">\n",
       "      <th></th>\n",
       "      <th>ListingID</th>\n",
       "      <th>SellerIsPriv</th>\n",
       "      <th>SellerListSrc</th>\n",
       "      <th>SellerName</th>\n",
       "      <th>SellerRating</th>\n",
       "      <th>SellerRevCnt</th>\n",
       "      <th>SellerState</th>\n",
       "      <th>SellerZip</th>\n",
       "      <th>VehBodystyle</th>\n",
       "      <th>VehCertified</th>\n",
       "      <th>VehColorExt</th>\n",
       "      <th>VehColorInt</th>\n",
       "      <th>VehDriveTrain</th>\n",
       "      <th>VehEngine</th>\n",
       "      <th>VehFeats</th>\n",
       "      <th>VehFuel</th>\n",
       "      <th>VehHistory</th>\n",
       "      <th>VehListdays</th>\n",
       "      <th>VehMake</th>\n",
       "      <th>VehMileage</th>\n",
       "      <th>...</th>\n",
       "      <th>SellerCity_Chicago</th>\n",
       "      <th>SellerCity_Battle Creek</th>\n",
       "      <th>SellerCity_Columbus</th>\n",
       "      <th>SellerCity_Louisville</th>\n",
       "      <th>SellerCity_Houston</th>\n",
       "      <th>SellerCity_Atlanta</th>\n",
       "      <th>SellerCity_Richmond</th>\n",
       "      <th>SellerCity_Raleigh</th>\n",
       "      <th>SellerCity_Indianapolis</th>\n",
       "      <th>SellerCity_Vienna</th>\n",
       "      <th>SellerCity_Cincinnati</th>\n",
       "      <th>SellerCity_Dallas</th>\n",
       "      <th>SellerCity_White Bear Lake</th>\n",
       "      <th>SellerCity_Palmyra</th>\n",
       "      <th>SellerCity_Rochester</th>\n",
       "      <th>SellerCity_Nashville</th>\n",
       "      <th>SellerCity_Milwaukee</th>\n",
       "      <th>SellerCity_St. Louis</th>\n",
       "      <th>SellerCity_Lexington</th>\n",
       "      <th>SellerCity_Pittsburgh</th>\n",
       "    </tr>\n",
       "  </thead>\n",
       "  <tbody>\n",
       "    <tr>\n",
       "      <th>0</th>\n",
       "      <td>3287</td>\n",
       "      <td>False</td>\n",
       "      <td>Inventory Command Center</td>\n",
       "      <td>Prime Motorz</td>\n",
       "      <td>5.0</td>\n",
       "      <td>32</td>\n",
       "      <td>MI</td>\n",
       "      <td>48091.0</td>\n",
       "      <td>SUV</td>\n",
       "      <td>False</td>\n",
       "      <td>White</td>\n",
       "      <td>Black</td>\n",
       "      <td>4X4</td>\n",
       "      <td>3.6L V6</td>\n",
       "      <td>['Adaptive Cruise Control', 'Antilock Brakes',...</td>\n",
       "      <td>Gasoline</td>\n",
       "      <td>1 Owner, Non-Personal Use Reported, Buyback Pr...</td>\n",
       "      <td>8.600069</td>\n",
       "      <td>Jeep</td>\n",
       "      <td>39319.0</td>\n",
       "      <td>...</td>\n",
       "      <td>0</td>\n",
       "      <td>0</td>\n",
       "      <td>0</td>\n",
       "      <td>0</td>\n",
       "      <td>0</td>\n",
       "      <td>0</td>\n",
       "      <td>0</td>\n",
       "      <td>0</td>\n",
       "      <td>0</td>\n",
       "      <td>0</td>\n",
       "      <td>0</td>\n",
       "      <td>0</td>\n",
       "      <td>0</td>\n",
       "      <td>0</td>\n",
       "      <td>0</td>\n",
       "      <td>0</td>\n",
       "      <td>0</td>\n",
       "      <td>0</td>\n",
       "      <td>0</td>\n",
       "      <td>0</td>\n",
       "    </tr>\n",
       "    <tr>\n",
       "      <th>1</th>\n",
       "      <td>3920</td>\n",
       "      <td>False</td>\n",
       "      <td>Cadillac Certified Program</td>\n",
       "      <td>Gateway Chevrolet Cadillac</td>\n",
       "      <td>4.8</td>\n",
       "      <td>1456</td>\n",
       "      <td>ND</td>\n",
       "      <td>58103.0</td>\n",
       "      <td>SUV</td>\n",
       "      <td>True</td>\n",
       "      <td>Black</td>\n",
       "      <td>NaN</td>\n",
       "      <td>NaN</td>\n",
       "      <td>NaN</td>\n",
       "      <td>NaN</td>\n",
       "      <td>Gasoline</td>\n",
       "      <td>1 Owner, Buyback Protection Eligible</td>\n",
       "      <td>2.920127</td>\n",
       "      <td>Cadillac</td>\n",
       "      <td>30352.0</td>\n",
       "      <td>...</td>\n",
       "      <td>0</td>\n",
       "      <td>0</td>\n",
       "      <td>0</td>\n",
       "      <td>0</td>\n",
       "      <td>0</td>\n",
       "      <td>0</td>\n",
       "      <td>0</td>\n",
       "      <td>0</td>\n",
       "      <td>0</td>\n",
       "      <td>0</td>\n",
       "      <td>0</td>\n",
       "      <td>0</td>\n",
       "      <td>0</td>\n",
       "      <td>0</td>\n",
       "      <td>0</td>\n",
       "      <td>0</td>\n",
       "      <td>0</td>\n",
       "      <td>0</td>\n",
       "      <td>0</td>\n",
       "      <td>0</td>\n",
       "    </tr>\n",
       "    <tr>\n",
       "      <th>2</th>\n",
       "      <td>4777</td>\n",
       "      <td>False</td>\n",
       "      <td>Jeep Certified Program</td>\n",
       "      <td>Wilde Chrysler Jeep Dodge Ram &amp;amp; Subaru</td>\n",
       "      <td>4.8</td>\n",
       "      <td>1405</td>\n",
       "      <td>WI</td>\n",
       "      <td>53186.0</td>\n",
       "      <td>SUV</td>\n",
       "      <td>True</td>\n",
       "      <td>Brilliant Black Crystal Pearlcoat</td>\n",
       "      <td>Black</td>\n",
       "      <td>4x4/4WD</td>\n",
       "      <td>Regular Unleaded V-6 3.6 L/220</td>\n",
       "      <td>['18 WHEEL &amp;amp; 8.4 RADIO GROUP-inc: Nav-Capa...</td>\n",
       "      <td>Gasoline</td>\n",
       "      <td>1 Owner, Buyback Protection Eligible</td>\n",
       "      <td>28.107014</td>\n",
       "      <td>Jeep</td>\n",
       "      <td>38957.0</td>\n",
       "      <td>...</td>\n",
       "      <td>0</td>\n",
       "      <td>0</td>\n",
       "      <td>0</td>\n",
       "      <td>0</td>\n",
       "      <td>0</td>\n",
       "      <td>0</td>\n",
       "      <td>0</td>\n",
       "      <td>0</td>\n",
       "      <td>0</td>\n",
       "      <td>0</td>\n",
       "      <td>0</td>\n",
       "      <td>0</td>\n",
       "      <td>0</td>\n",
       "      <td>0</td>\n",
       "      <td>0</td>\n",
       "      <td>0</td>\n",
       "      <td>0</td>\n",
       "      <td>0</td>\n",
       "      <td>0</td>\n",
       "      <td>0</td>\n",
       "    </tr>\n",
       "    <tr>\n",
       "      <th>3</th>\n",
       "      <td>6242</td>\n",
       "      <td>False</td>\n",
       "      <td>Inventory Command Center</td>\n",
       "      <td>Century Dodge Chrysler Jeep RAM</td>\n",
       "      <td>4.4</td>\n",
       "      <td>21</td>\n",
       "      <td>MO</td>\n",
       "      <td>63385.0</td>\n",
       "      <td>SUV</td>\n",
       "      <td>False</td>\n",
       "      <td>Diamond Black Crystal Pearlcoat</td>\n",
       "      <td>Black</td>\n",
       "      <td>4WD</td>\n",
       "      <td>3.6L V6</td>\n",
       "      <td>['Android Auto', 'Antilock Brakes', 'Apple Car...</td>\n",
       "      <td>Gasoline</td>\n",
       "      <td>1 Owner, Non-Personal Use Reported, Buyback Pr...</td>\n",
       "      <td>59.816875</td>\n",
       "      <td>Jeep</td>\n",
       "      <td>20404.0</td>\n",
       "      <td>...</td>\n",
       "      <td>0</td>\n",
       "      <td>0</td>\n",
       "      <td>0</td>\n",
       "      <td>0</td>\n",
       "      <td>0</td>\n",
       "      <td>0</td>\n",
       "      <td>0</td>\n",
       "      <td>0</td>\n",
       "      <td>0</td>\n",
       "      <td>0</td>\n",
       "      <td>0</td>\n",
       "      <td>0</td>\n",
       "      <td>0</td>\n",
       "      <td>0</td>\n",
       "      <td>0</td>\n",
       "      <td>0</td>\n",
       "      <td>0</td>\n",
       "      <td>0</td>\n",
       "      <td>0</td>\n",
       "      <td>0</td>\n",
       "    </tr>\n",
       "    <tr>\n",
       "      <th>4</th>\n",
       "      <td>7108</td>\n",
       "      <td>False</td>\n",
       "      <td>HomeNet Automotive</td>\n",
       "      <td>Superior Buick GMC of Fayetteville</td>\n",
       "      <td>3.7</td>\n",
       "      <td>74</td>\n",
       "      <td>AR</td>\n",
       "      <td>72703.0</td>\n",
       "      <td>SUV</td>\n",
       "      <td>False</td>\n",
       "      <td>Radiant Silver Metallic</td>\n",
       "      <td>Cirrus</td>\n",
       "      <td>FWD</td>\n",
       "      <td>Gas V6 3.6L/222.6</td>\n",
       "      <td>['4-Wheel Disc Brakes', 'ABS', 'Adjustable Ste...</td>\n",
       "      <td>Gasoline</td>\n",
       "      <td>1 Owner, Non-Personal Use Reported, Buyback Pr...</td>\n",
       "      <td>98.665301</td>\n",
       "      <td>Cadillac</td>\n",
       "      <td>19788.0</td>\n",
       "      <td>...</td>\n",
       "      <td>0</td>\n",
       "      <td>0</td>\n",
       "      <td>0</td>\n",
       "      <td>0</td>\n",
       "      <td>0</td>\n",
       "      <td>0</td>\n",
       "      <td>0</td>\n",
       "      <td>0</td>\n",
       "      <td>0</td>\n",
       "      <td>0</td>\n",
       "      <td>0</td>\n",
       "      <td>0</td>\n",
       "      <td>0</td>\n",
       "      <td>0</td>\n",
       "      <td>0</td>\n",
       "      <td>0</td>\n",
       "      <td>0</td>\n",
       "      <td>0</td>\n",
       "      <td>0</td>\n",
       "      <td>0</td>\n",
       "    </tr>\n",
       "  </tbody>\n",
       "</table>\n",
       "<p>5 rows × 48 columns</p>\n",
       "</div>"
      ],
      "text/plain": [
       "   ListingID  SellerIsPriv               SellerListSrc  \\\n",
       "0       3287         False    Inventory Command Center   \n",
       "1       3920         False  Cadillac Certified Program   \n",
       "2       4777         False      Jeep Certified Program   \n",
       "3       6242         False    Inventory Command Center   \n",
       "4       7108         False          HomeNet Automotive   \n",
       "\n",
       "                                   SellerName  SellerRating  SellerRevCnt  \\\n",
       "0                                Prime Motorz           5.0            32   \n",
       "1                  Gateway Chevrolet Cadillac           4.8          1456   \n",
       "2  Wilde Chrysler Jeep Dodge Ram &amp; Subaru           4.8          1405   \n",
       "3             Century Dodge Chrysler Jeep RAM           4.4            21   \n",
       "4          Superior Buick GMC of Fayetteville           3.7            74   \n",
       "\n",
       "  SellerState  SellerZip VehBodystyle  VehCertified  \\\n",
       "0          MI    48091.0          SUV         False   \n",
       "1          ND    58103.0          SUV          True   \n",
       "2          WI    53186.0          SUV          True   \n",
       "3          MO    63385.0          SUV         False   \n",
       "4          AR    72703.0          SUV         False   \n",
       "\n",
       "                         VehColorExt VehColorInt VehDriveTrain  \\\n",
       "0                              White       Black           4X4   \n",
       "1                              Black         NaN           NaN   \n",
       "2  Brilliant Black Crystal Pearlcoat       Black       4x4/4WD   \n",
       "3    Diamond Black Crystal Pearlcoat       Black           4WD   \n",
       "4            Radiant Silver Metallic      Cirrus           FWD   \n",
       "\n",
       "                        VehEngine  \\\n",
       "0                         3.6L V6   \n",
       "1                             NaN   \n",
       "2  Regular Unleaded V-6 3.6 L/220   \n",
       "3                         3.6L V6   \n",
       "4               Gas V6 3.6L/222.6   \n",
       "\n",
       "                                            VehFeats   VehFuel  \\\n",
       "0  ['Adaptive Cruise Control', 'Antilock Brakes',...  Gasoline   \n",
       "1                                                NaN  Gasoline   \n",
       "2  ['18 WHEEL &amp; 8.4 RADIO GROUP-inc: Nav-Capa...  Gasoline   \n",
       "3  ['Android Auto', 'Antilock Brakes', 'Apple Car...  Gasoline   \n",
       "4  ['4-Wheel Disc Brakes', 'ABS', 'Adjustable Ste...  Gasoline   \n",
       "\n",
       "                                          VehHistory  VehListdays   VehMake  \\\n",
       "0  1 Owner, Non-Personal Use Reported, Buyback Pr...     8.600069      Jeep   \n",
       "1               1 Owner, Buyback Protection Eligible     2.920127  Cadillac   \n",
       "2               1 Owner, Buyback Protection Eligible    28.107014      Jeep   \n",
       "3  1 Owner, Non-Personal Use Reported, Buyback Pr...    59.816875      Jeep   \n",
       "4  1 Owner, Non-Personal Use Reported, Buyback Pr...    98.665301  Cadillac   \n",
       "\n",
       "   VehMileage  ... SellerCity_Chicago SellerCity_Battle Creek  \\\n",
       "0     39319.0  ...                  0                       0   \n",
       "1     30352.0  ...                  0                       0   \n",
       "2     38957.0  ...                  0                       0   \n",
       "3     20404.0  ...                  0                       0   \n",
       "4     19788.0  ...                  0                       0   \n",
       "\n",
       "  SellerCity_Columbus SellerCity_Louisville SellerCity_Houston  \\\n",
       "0                   0                     0                  0   \n",
       "1                   0                     0                  0   \n",
       "2                   0                     0                  0   \n",
       "3                   0                     0                  0   \n",
       "4                   0                     0                  0   \n",
       "\n",
       "   SellerCity_Atlanta SellerCity_Richmond  SellerCity_Raleigh  \\\n",
       "0                   0                   0                   0   \n",
       "1                   0                   0                   0   \n",
       "2                   0                   0                   0   \n",
       "3                   0                   0                   0   \n",
       "4                   0                   0                   0   \n",
       "\n",
       "   SellerCity_Indianapolis  SellerCity_Vienna  SellerCity_Cincinnati  \\\n",
       "0                        0                  0                      0   \n",
       "1                        0                  0                      0   \n",
       "2                        0                  0                      0   \n",
       "3                        0                  0                      0   \n",
       "4                        0                  0                      0   \n",
       "\n",
       "   SellerCity_Dallas  SellerCity_White Bear Lake  SellerCity_Palmyra  \\\n",
       "0                  0                           0                   0   \n",
       "1                  0                           0                   0   \n",
       "2                  0                           0                   0   \n",
       "3                  0                           0                   0   \n",
       "4                  0                           0                   0   \n",
       "\n",
       "   SellerCity_Rochester  SellerCity_Nashville  SellerCity_Milwaukee  \\\n",
       "0                     0                     0                     0   \n",
       "1                     0                     0                     0   \n",
       "2                     0                     0                     0   \n",
       "3                     0                     0                     0   \n",
       "4                     0                     0                     0   \n",
       "\n",
       "   SellerCity_St. Louis  SellerCity_Lexington  SellerCity_Pittsburgh  \n",
       "0                     0                     0                      0  \n",
       "1                     0                     0                      0  \n",
       "2                     0                     0                      0  \n",
       "3                     0                     0                      0  \n",
       "4                     0                     0                      0  \n",
       "\n",
       "[5 rows x 48 columns]"
      ]
     },
     "execution_count": 6,
     "metadata": {},
     "output_type": "execute_result"
    }
   ],
   "source": [
    "traindf = make_specific_dummies(traindf, 'SellerCity', cities)\n",
    "traindf.head()"
   ]
  },
  {
   "cell_type": "markdown",
   "id": "abd31c7c",
   "metadata": {},
   "source": [
    "# SellerListSrc\n",
    "\n",
    "Only two are nulls --- this will leave those as the only 0 for dummies. (no dropfirst)\n",
    "Again, `pd.get_dummies` could be a problem if there are a different order. Make dummy columns manually."
   ]
  },
  {
   "cell_type": "code",
   "execution_count": 7,
   "id": "3f107173",
   "metadata": {},
   "outputs": [
    {
     "data": {
      "text/plain": [
       "array(['Inventory Command Center', 'Cadillac Certified Program',\n",
       "       'Jeep Certified Program', 'HomeNet Automotive',\n",
       "       'Digital Motorworks (DMi)', 'My Dealer Center', 'Sell It Yourself',\n",
       "       'Five Star Certified Program'], dtype=object)"
      ]
     },
     "execution_count": 7,
     "metadata": {},
     "output_type": "execute_result"
    }
   ],
   "source": [
    "sources = traindf['SellerListSrc'].dropna().unique()\n",
    "sources"
   ]
  },
  {
   "cell_type": "code",
   "execution_count": 8,
   "id": "5bd3d448",
   "metadata": {},
   "outputs": [],
   "source": [
    "traindf = make_specific_dummies(traindf, 'SellerListSrc', sources)"
   ]
  },
  {
   "cell_type": "markdown",
   "id": "36c798bb",
   "metadata": {},
   "source": [
    "## SellerName\n",
    "Treat this like cities, with the most popular names marked. Again, arbitrarily for now, just picking the top 20 sellers.\n",
    "Some sellers might be tied with low prices for certain models."
   ]
  },
  {
   "cell_type": "code",
   "execution_count": 9,
   "id": "bb911318",
   "metadata": {},
   "outputs": [
    {
     "data": {
      "text/plain": [
       "Index(['Vroom (Online Dealer - Nationwide Delivery)', 'Carvana',\n",
       "       'Henkel Chrysler Dodge Jeep Ram',\n",
       "       'OffLeaseOnly.com The Nation&#x27;s Used Car Destination',\n",
       "       'Koons Tysons Chrysler Dodge Jeep RAM',\n",
       "       'Marino Chrysler Jeep Dodge RAM', 'Barnett Chrysler Jeep Kia',\n",
       "       'F.C. Kerbeck &amp; Sons', 'Sewell Cadillac of Dallas',\n",
       "       'Blue Knob Auto Sales', 'CarMax White Marsh',\n",
       "       'Larry Roesch Dodge Chrysler Jeep RAM', 'Cross Chrysler Jeep Fiat',\n",
       "       'Sewell Cadillac', 'Park Chrysler Jeep', 'Tom Masano Ford Lincoln',\n",
       "       'Brad Deery Motors', 'Sherman Dodge Chrysler Jeep RAM',\n",
       "       'Germain Cadillac of Easton', 'Westgate Chrysler Jeep Dodge RAM'],\n",
       "      dtype='object')"
      ]
     },
     "execution_count": 9,
     "metadata": {},
     "output_type": "execute_result"
    }
   ],
   "source": [
    "#not taking unique because there are so many. order by value count first, then take the first collection\n",
    "sellers = traindf['SellerName'].value_counts(ascending = False)[:20]\n",
    "sellers = sellers.index\n",
    "sellers"
   ]
  },
  {
   "cell_type": "code",
   "execution_count": 10,
   "id": "a6f26806",
   "metadata": {},
   "outputs": [],
   "source": [
    "traindf = make_specific_dummies(traindf, 'SellerName', sellers)"
   ]
  },
  {
   "cell_type": "markdown",
   "id": "b89fe4a6",
   "metadata": {},
   "source": [
    "## SellerState\n",
    "All 50 states are represented. The limit of US states means that we can drop one. Let's make it HI just because it has the fewest sales in this training set."
   ]
  },
  {
   "cell_type": "code",
   "execution_count": 11,
   "id": "6a06bb4e",
   "metadata": {
    "scrolled": true
   },
   "outputs": [
    {
     "data": {
      "text/plain": [
       "Index(['IL', 'OH', 'MI', 'WI', 'PA', 'IN', 'TX', 'NY', 'VA', 'MD', 'FL', 'NC',\n",
       "       'MO', 'GA', 'TN', 'KY', 'MN', 'IA', 'CA', 'NJ', 'SC', 'CO', 'WV', 'OK',\n",
       "       'WA', 'LA', 'AZ', 'AL', 'MA', 'AR', 'NV', 'ID', 'UT', 'MS', 'CT', 'NE',\n",
       "       'SD', 'NH', 'OR', 'KS', 'DE', 'NM', 'VT', 'ND', 'AK', 'RI', 'WY', 'ME',\n",
       "       'MT'],\n",
       "      dtype='object')"
      ]
     },
     "execution_count": 11,
     "metadata": {},
     "output_type": "execute_result"
    }
   ],
   "source": [
    "states = traindf['SellerState'].value_counts(ascending = False).index[:-1]\n",
    "states"
   ]
  },
  {
   "cell_type": "code",
   "execution_count": 12,
   "id": "8d277f61",
   "metadata": {},
   "outputs": [],
   "source": [
    "traindf = make_specific_dummies(traindf,'SellerState', states)"
   ]
  },
  {
   "cell_type": "markdown",
   "id": "9d1ae97c",
   "metadata": {},
   "source": [
    "# SellerZip, VehBodystyle\n",
    "drop."
   ]
  },
  {
   "cell_type": "code",
   "execution_count": 13,
   "id": "09f0535e",
   "metadata": {},
   "outputs": [],
   "source": [
    "columns_to_drop.append('SellerZip')\n",
    "columns_to_drop.append('VehBodystyle')"
   ]
  },
  {
   "cell_type": "markdown",
   "id": "18c5d05a",
   "metadata": {},
   "source": [
    "# VehColorExt\n",
    "\n",
    "colors to consolidate:\n",
    "   \n",
    "   - gray, platinum, silver, steel, granite, billet, billiet, Gy, sil, rhino\n",
    "   - black, Midnight Sky, Shadow, charcoal\n",
    "   - white, ivory\n",
    "   - blue\n",
    "   - brown, brownstone, mocha\n",
    "   - beige, beigh, cashmere, bronze, tan\n",
    "   - gold\n",
    "   - purple, amethyst, velvet\n",
    "   - deep red, dark red, deep cherry red, burgundy, sangria, deep auburn, maroon, \n",
    "   - red, red horizon\n",
    "   - (black forest) green\n",
    "   - pink\n",
    "   \n",
    "textures / coats:\n",
    "\n",
    "    - metallic, me\n",
    "    - pearl, pearlcoat, pearl-coat\n",
    "    - crystal\n",
    "    - clear, clearcoat\n",
    "    - 3-coat, tricoat, tri-coat\n",
    "    - tintcoat\n",
    "    \n",
    "nonvalues:\n",
    "\n",
    "    - nan\n",
    "    - unspecified\n",
    "    - Not Specified"
   ]
  },
  {
   "cell_type": "code",
   "execution_count": 14,
   "id": "06ae5b22",
   "metadata": {},
   "outputs": [],
   "source": [
    "colors = ['silver', 'black','white', 'blue', 'brown', 'tan', 'gold', 'purple', 'deep red', 'red', 'green', 'pink']\n",
    "\n",
    "textures = ['metallic', 'pearl', 'crystal', 'diamond', 'clearcoat', 'tintcoat', 'tricoat']\n",
    "\n",
    "silvers = ['gray', 'platinum', 'silver', 'steel', 'granite', 'billet', 'billiet', 'Gy', 'sil', 'rhino']\n",
    "blacks = ['black', 'midnight','shadow','charcoal']\n",
    "whites = ['white','ivory']\n",
    "browns = ['brown','brownstone','mocha']\n",
    "tans = ['beige','beigh','cashmere','brown','tan']\n",
    "purples = ['purple','amethyst','velvet']\n",
    "deepreds = ['deep red','dark red','deep cherry red','burgundy','sangria','deep auburn','maroon']"
   ]
  },
  {
   "cell_type": "code",
   "execution_count": 15,
   "id": "1daf05fd",
   "metadata": {},
   "outputs": [],
   "source": [
    "#fill missing ext color values with blank string\n",
    "traindf['VehColorExt'].fillna('', inplace = True)"
   ]
  },
  {
   "cell_type": "code",
   "execution_count": 16,
   "id": "8ec9b8e5",
   "metadata": {
    "scrolled": true
   },
   "outputs": [],
   "source": [
    "#create new dummy columns for basic colors. some will overlap (red, deep red, black forest green), but will largely be separated\n",
    "color_synonyms = zip(colors, [silvers, blacks, whites, ['blue'], browns, tans, ['gold'], purples, deepreds, ['red'],['green'], ['pink']])\n",
    "color_synonyms = list(color_synonyms)\n",
    "for color in color_synonyms:\n",
    "    this_color = color[0]\n",
    "    these_synonyms = color[1]\n",
    "    traindf['ext_' + this_color] = 0\n",
    "    for synonym in these_synonyms:\n",
    "        traindf['ext_' + this_color] = traindf[['VehColorExt','ext_' + this_color]].apply(lambda entry: 1 if synonym in entry['VehColorExt'].lower() or entry['ext_' + this_color] else 0, axis = 1)"
   ]
  },
  {
   "cell_type": "code",
   "execution_count": 17,
   "id": "7fb5d14d",
   "metadata": {},
   "outputs": [],
   "source": [
    "#create dummy columns for textures\n",
    "texture_synonyms = zip(textures,\n",
    "                       [\n",
    "                      ['metal', 'me'],\n",
    "                      ['pearl'],\n",
    "                      ['crystal'],\n",
    "                      ['diamond'],\n",
    "                      ['clear'],\n",
    "                      ['tint'],\n",
    "                      ['3-coat', 'tricoat']\n",
    "                       ])\n",
    "texture_synonyms = list(texture_synonyms)\n",
    "for texture in texture_synonyms:\n",
    "    this_texture = texture[0]\n",
    "    these_synonyms = texture[1]\n",
    "    traindf['ext_' + this_texture] = 0\n",
    "    for synonym in these_synonyms:\n",
    "        #make the dummy value 1 if the synonym is in the description or if it's already 1\n",
    "        traindf['ext_' + this_texture] = traindf[['VehColorExt', 'ext_' + this_texture]].apply(lambda entry: 1 if synonym in entry['VehColorExt'].lower() or entry['ext_' + this_texture] else 0 , axis = 1)"
   ]
  },
  {
   "cell_type": "code",
   "execution_count": 18,
   "id": "f65460ac",
   "metadata": {},
   "outputs": [],
   "source": [
    "columns_to_drop.append('VehColorExt')"
   ]
  },
  {
   "cell_type": "markdown",
   "id": "aef03491",
   "metadata": {},
   "source": [
    "# VehColorInt\n",
    "\n",
    "Do the same for interior colors.\n",
    "\n",
    "colors:\n",
    "\n",
    "    - white\n",
    "    - beige, cream, cirrus\n",
    "    - black, carbon, graphite, ebony\n",
    "    - gray, pewter, aluminum, sterling\n",
    "    - tan\n",
    "    - ruby red\n",
    "    - sugar maple\n",
    "    - bronze\n",
    "    - blue, indigo, plum\n",
    "    - brown, sepia\n",
    "    - red\n",
    "    - jet\n",
    "    \n",
    "    \n",
    "    \n",
    "style:\n",
    "\n",
    "    - sport\n",
    "    - accent/ accents\n",
    "    - mini-perf, mini-perfo\n",
    "\n",
    "material:\n",
    "\n",
    "    - leather\n",
    "    - suede\n",
    "    - titanium\n",
    "    - cloth\n",
    "    - sapelle, sapele\n",
    "    - aluminum"
   ]
  },
  {
   "cell_type": "code",
   "execution_count": 19,
   "id": "3749e01b",
   "metadata": {},
   "outputs": [],
   "source": [
    "traindf['VehColorInt'].fillna('', inplace = True)"
   ]
  },
  {
   "cell_type": "code",
   "execution_count": 20,
   "id": "fa4cbd18",
   "metadata": {},
   "outputs": [],
   "source": [
    "int_colors = ['beige',\n",
    "          'black',\n",
    "          'jet',\n",
    "          'gray',\n",
    "          'red',\n",
    "          'maple',\n",
    "          'blue',\n",
    "          'brown',\n",
    "         ]\n",
    "\n",
    "styles = ['sport',\n",
    "         'accent',\n",
    "         'perf']\n",
    "\n",
    "materials = ['leather',\n",
    "            'suede',\n",
    "            'titanium',\n",
    "            'cloth',\n",
    "            'sapele',\n",
    "            'aluminum']"
   ]
  },
  {
   "cell_type": "code",
   "execution_count": 21,
   "id": "0e7c7673",
   "metadata": {},
   "outputs": [],
   "source": [
    "#create dummy columns for interior colors \n",
    "int_color_synonyms = zip(int_colors,\n",
    "                       [\n",
    "                           ['beige','cream','cirrus'],\n",
    "                           ['black','carbon','graphite','ebony'],\n",
    "                           ['jet'],\n",
    "                           ['gray','pewter','aluminum','sterling','steel'],\n",
    "                           ['red'],\n",
    "                           ['maple'],\n",
    "                           ['blue','indigo','plum'],\n",
    "                           ['brown','sepia']\n",
    "                       ])\n",
    "int_color_synonyms = list(int_color_synonyms)\n",
    "for color in int_color_synonyms:\n",
    "    this_color = color[0]\n",
    "    these_synonyms = color[1]\n",
    "    #create a column of zeros for this feature\n",
    "    traindf['int_' + this_color] = 0\n",
    "    #fill the new column if the scanned column has any of the synonyms\n",
    "    for synonym in these_synonyms:\n",
    "        #make the dummy value 1 if the synonym is in the description or if it's already 1\n",
    "        traindf['int_' + this_color] = traindf[['VehColorInt', 'int_' + this_color]].apply(lambda entry: 1 if synonym in entry['VehColorInt'].lower() or entry['int_' + this_color] else 0 , axis = 1)\n",
    "\n",
    "        "
   ]
  },
  {
   "cell_type": "code",
   "execution_count": 22,
   "id": "de99d2fb",
   "metadata": {},
   "outputs": [],
   "source": [
    "\n",
    "        \n",
    "# scans through df[column] for anything in a synonym list, makes new columns with synonym headers.\n",
    "# synonyms looks like \n",
    "# [ \n",
    "#   [ value1, [synonym1, synonym2...],\n",
    "#   [ value2, [synonym1, synonym2...],\n",
    "#   ...\n",
    "# ]\n",
    "def make_synonym_dummies(df, column, new_column_prefix, synonyms):\n",
    "    #not memory efficient, but safe.\n",
    "    df2 = df.copy()\n",
    "    for value in synonyms:\n",
    "        this_value = value[0]\n",
    "        these_synonyms = value[1]\n",
    "        #create a column of zeros for this feature\n",
    "        df2[new_column_prefix + '_' + this_value] = 0\n",
    "        #fill the new column if the scanned column has any of the synonyms\n",
    "        for synonym in these_synonyms:\n",
    "            #make the dummy value 1 if the synonym is in the description or if it's already 1\n",
    "            df2[new_column_prefix + '_' + this_value] = df2[[column, new_column_prefix + '_' + this_value]].apply(lambda entry: 1 if synonym in entry[column].lower() or entry[new_column_prefix + '_' + this_value] else 0 , axis = 1)\n",
    "    return df2\n",
    "\n",
    "def make_inclusive_dummies(df, column, new_column_prefix, values):\n",
    "    df2 = df.copy()\n",
    "    for value in values:\n",
    "        df2[new_column_prefix + '_' + value] = df2[column].apply(lambda entry: value in entry.lower())    \n",
    "    return df2\n",
    "    "
   ]
  },
  {
   "cell_type": "code",
   "execution_count": 23,
   "id": "a39ef986",
   "metadata": {
    "scrolled": true
   },
   "outputs": [],
   "source": [
    "#style dummies\n",
    "traindf = make_inclusive_dummies(traindf, 'VehColorInt', 'int', styles)"
   ]
  },
  {
   "cell_type": "code",
   "execution_count": 24,
   "id": "4a6ed123",
   "metadata": {
    "scrolled": true
   },
   "outputs": [
    {
     "data": {
      "text/plain": [
       "Index(['int_sport', 'int_accent', 'int_perf', 'int_leather', 'int_suede',\n",
       "       'int_titanium', 'int_cloth', 'int_sapele', 'int_aluminum'],\n",
       "      dtype='object')"
      ]
     },
     "execution_count": 24,
     "metadata": {},
     "output_type": "execute_result"
    }
   ],
   "source": [
    "#internal material dummies\n",
    "traindf = make_inclusive_dummies(traindf, 'VehColorInt', 'int', materials)\n",
    "traindf.columns[-9:]"
   ]
  },
  {
   "cell_type": "code",
   "execution_count": 25,
   "id": "520da747",
   "metadata": {},
   "outputs": [],
   "source": [
    "columns_to_drop.append('VehColorInt')"
   ]
  },
  {
   "cell_type": "markdown",
   "id": "ec10c1f1",
   "metadata": {},
   "source": [
    "---\n",
    "# VehDriveTrain\n",
    "\n",
    "Split these into two, 4x4/AWD and FWD/2WD. There are fine distinctions in cars in reality, but this data is mixed.\n",
    "\n",
    "- AWD\n",
    "    - 4WD/AWD\n",
    "    - AllWheelDrive\n",
    "    - ALL WHEEL\n",
    "    - All-wheel drive\n",
    "    - AWD or 4x4\n",
    "    - 4x4/4WD\n",
    "    - 4x4\n",
    "    - All Wheel Drive\n",
    "    - ALL-WHEEL\n",
    "    - four wheel\n",
    "    - 4WD\n",
    "- 2WD\n",
    "    - front-wheel Drive\n",
    "    - 2WD\n",
    "    - FWD"
   ]
  },
  {
   "cell_type": "code",
   "execution_count": 26,
   "id": "473acaa6",
   "metadata": {},
   "outputs": [],
   "source": [
    "traindf['VehDriveTrain'].fillna('', inplace = True)"
   ]
  },
  {
   "cell_type": "code",
   "execution_count": 27,
   "id": "3f65a07f",
   "metadata": {},
   "outputs": [],
   "source": [
    "drivetrains = ['awd', 'fwd']\n",
    "\n",
    "awds = [\n",
    "    '4wd',\n",
    "    'awd',\n",
    "    '4x4',\n",
    "    'all-wheel',\n",
    "    'all wheel',\n",
    "    'four wheel',\n",
    "    'four-wheel'\n",
    "]\n",
    "\n",
    "fwds = [\n",
    "    'fwd',\n",
    "    'front-wheel',\n",
    "    'front wheel',\n",
    "    '2wd'\n",
    "]\n",
    "\n",
    "drivetrain_synonyms = zip(drivetrains,\n",
    "                         [\n",
    "                             awds,\n",
    "                             fwds\n",
    "                         ])\n",
    "drivetrain_synonyms = list(drivetrain_synonyms)"
   ]
  },
  {
   "cell_type": "code",
   "execution_count": 28,
   "id": "76e12efb",
   "metadata": {
    "scrolled": true
   },
   "outputs": [
    {
     "data": {
      "text/plain": [
       "[('awd',\n",
       "  ['4wd', 'awd', '4x4', 'all-wheel', 'all wheel', 'four wheel', 'four-wheel']),\n",
       " ('fwd', ['fwd', 'front-wheel', 'front wheel', '2wd'])]"
      ]
     },
     "execution_count": 28,
     "metadata": {},
     "output_type": "execute_result"
    }
   ],
   "source": [
    "drivetrain_synonyms"
   ]
  },
  {
   "cell_type": "code",
   "execution_count": 29,
   "id": "cc7d7a93",
   "metadata": {},
   "outputs": [],
   "source": [
    "#assign drivetrain dummies\n",
    "traindf = make_synonym_dummies(traindf, 'VehDriveTrain', 'drivetrain', drivetrain_synonyms)"
   ]
  },
  {
   "cell_type": "code",
   "execution_count": 30,
   "id": "ff711ed7",
   "metadata": {},
   "outputs": [],
   "source": [
    "columns_to_drop.append('VehDriveTrain')"
   ]
  },
  {
   "cell_type": "markdown",
   "id": "e067ca1d",
   "metadata": {},
   "source": [
    "# VehEngine\n",
    "A lot of these engine values are included in `VehFeats`. Instead of regexing a bunch of engine values, I'll grab them from the feats."
   ]
  },
  {
   "cell_type": "code",
   "execution_count": 31,
   "id": "a29eb8d3",
   "metadata": {},
   "outputs": [],
   "source": [
    "columns_to_drop.append('VehEngine')"
   ]
  },
  {
   "cell_type": "markdown",
   "id": "b9927908",
   "metadata": {},
   "source": [
    "# VehFeats"
   ]
  },
  {
   "cell_type": "code",
   "execution_count": 32,
   "id": "fa6136ff",
   "metadata": {},
   "outputs": [],
   "source": [
    "#turn these objects into lists \n",
    "#\n",
    "traindf['VehFeats'] = traindf['VehFeats'].dropna().apply(lambda entry: eval(entry))"
   ]
  },
  {
   "cell_type": "code",
   "execution_count": 33,
   "id": "2531b292",
   "metadata": {
    "scrolled": false
   },
   "outputs": [
    {
     "data": {
      "text/plain": [
       "Audio controls on steering wheel        3485\n",
       "ABS and Driveline Traction Control      3479\n",
       "1st and 2nd row curtain head airbags    3479\n",
       "4-wheel ABS Brakes                      3479\n",
       "Braking Assist                          2322\n",
       "dtype: int64"
      ]
     },
     "execution_count": 33,
     "metadata": {},
     "output_type": "execute_result"
    }
   ],
   "source": [
    "# create a flat list of all feats\n",
    "feat_list = [\n",
    "    feat for feats in traindf['VehFeats'].dropna() for feat in feats\n",
    "]\n",
    "#make that list a series to easily count values\n",
    "featvcs = pd.Series(feat_list).value_counts(ascending = False)\n",
    "#look at those value counts\n",
    "featvcs.head()"
   ]
  },
  {
   "cell_type": "code",
   "execution_count": 34,
   "id": "54f3670f",
   "metadata": {},
   "outputs": [],
   "source": [
    "#grab the top feats to make a dummy list.\n",
    "feats = featvcs.index[:80]"
   ]
  },
  {
   "cell_type": "code",
   "execution_count": 35,
   "id": "bdeca267",
   "metadata": {},
   "outputs": [
    {
     "data": {
      "text/plain": [
       "0       [Adaptive Cruise Control, Antilock Brakes, Aud...\n",
       "1                                                     NaN\n",
       "2       [18 WHEEL &amp; 8.4 RADIO GROUP-inc: Nav-Capab...\n",
       "3       [Android Auto, Antilock Brakes, Apple CarPlay,...\n",
       "4       [4-Wheel Disc Brakes, ABS, Adjustable Steering...\n",
       "                              ...                        \n",
       "6293                                                  NaN\n",
       "6294    [1st and 2nd row curtain head airbags, 4-wheel...\n",
       "6295    [1st and 2nd row curtain head airbags, 4-wheel...\n",
       "6296    [1st and 2nd row curtain head airbags, 4-wheel...\n",
       "6297    [Airbag Occupancy Sensor, Curtain 1st And 2nd ...\n",
       "Name: VehFeats, Length: 6298, dtype: object"
      ]
     },
     "execution_count": 35,
     "metadata": {},
     "output_type": "execute_result"
    }
   ],
   "source": [
    "traindf['VehFeats']"
   ]
  },
  {
   "cell_type": "code",
   "execution_count": 36,
   "id": "0eb8736f",
   "metadata": {
    "scrolled": true
   },
   "outputs": [],
   "source": [
    "for feat in feats:\n",
    "    traindf['feat_' + feat] = traindf['VehFeats'].dropna().apply(lambda featlist: feat in featlist)"
   ]
  },
  {
   "cell_type": "code",
   "execution_count": 37,
   "id": "10066a7c",
   "metadata": {},
   "outputs": [],
   "source": [
    "columns_to_drop.append('VehFeats')"
   ]
  },
  {
   "cell_type": "markdown",
   "id": "28eb865a",
   "metadata": {},
   "source": [
    "# VehFuel"
   ]
  },
  {
   "cell_type": "code",
   "execution_count": 38,
   "id": "50ea3a06",
   "metadata": {},
   "outputs": [
    {
     "data": {
      "text/plain": [
       "array(['Gasoline', 'E85 Flex Fuel', 'Diesel'], dtype=object)"
      ]
     },
     "execution_count": 38,
     "metadata": {},
     "output_type": "execute_result"
    }
   ],
   "source": [
    "fuels = traindf['VehFuel'].unique()[:3]\n",
    "fuels"
   ]
  },
  {
   "cell_type": "code",
   "execution_count": 39,
   "id": "2edf6525",
   "metadata": {},
   "outputs": [],
   "source": [
    "traindf = make_specific_dummies(traindf, 'VehFuel', fuels )"
   ]
  },
  {
   "cell_type": "markdown",
   "id": "14b8401c",
   "metadata": {},
   "source": [
    "# VehHistory"
   ]
  },
  {
   "cell_type": "code",
   "execution_count": 40,
   "id": "a39d9e9d",
   "metadata": {
    "scrolled": true
   },
   "outputs": [
    {
     "data": {
      "text/plain": [
       "0       1 Owner, Non-Personal Use Reported, Buyback Pr...\n",
       "1                    1 Owner, Buyback Protection Eligible\n",
       "2                    1 Owner, Buyback Protection Eligible\n",
       "3       1 Owner, Non-Personal Use Reported, Buyback Pr...\n",
       "4       1 Owner, Non-Personal Use Reported, Buyback Pr...\n",
       "                              ...                        \n",
       "6293                                                  NaN\n",
       "6294    1 Owner, Accident(s) Reported, Non-Personal Us...\n",
       "6295                0 Owners, Buyback Protection Eligible\n",
       "6296    2 Owners, Non-Personal Use Reported, Buyback P...\n",
       "6297    1 Owner, Non-Personal Use Reported, Buyback Pr...\n",
       "Name: VehHistory, Length: 6298, dtype: object"
      ]
     },
     "execution_count": 40,
     "metadata": {},
     "output_type": "execute_result"
    }
   ],
   "source": [
    "traindf['VehHistory']"
   ]
  },
  {
   "cell_type": "code",
   "execution_count": 41,
   "id": "eb2fa43b",
   "metadata": {},
   "outputs": [],
   "source": [
    "#turn vehhistory into lists of strings\n",
    "traindf['VehHistory'].fillna('', inplace = True)\n",
    "traindf['VehHistory'] = traindf['VehHistory'].apply(lambda this_history: this_history.split(', '))"
   ]
  },
  {
   "cell_type": "code",
   "execution_count": 42,
   "id": "08e1dac7",
   "metadata": {
    "scrolled": true
   },
   "outputs": [
    {
     "data": {
      "text/plain": [
       "Buyback Protection Eligible    5877\n",
       "1 Owner                        5396\n",
       "Non-Personal Use Reported      2465\n",
       "Accident(s) Reported            648\n",
       "2 Owners                        363\n",
       "0 Owners                        311\n",
       "Title Issue(s) Reported         244\n",
       "                                201\n",
       "3 Owners                         22\n",
       "4 Owners                          5\n",
       "dtype: int64"
      ]
     },
     "execution_count": 42,
     "metadata": {},
     "output_type": "execute_result"
    }
   ],
   "source": [
    "# create a flat list of all hist\n",
    "hist_list = [\n",
    "    hist for hists in traindf['VehHistory'].dropna() for hist in hists\n",
    "]\n",
    "#make that list a series to easily count values\n",
    "histvcs = pd.Series(hist_list).value_counts(ascending = False)\n",
    "#look at those value counts\n",
    "histvcs"
   ]
  },
  {
   "cell_type": "code",
   "execution_count": 43,
   "id": "20e8fa6f",
   "metadata": {
    "scrolled": true
   },
   "outputs": [],
   "source": [
    "#make hist dummies\n",
    "hists = histvcs.index\n",
    "for hist in hists:\n",
    "    traindf['hist_' + hist] = traindf['VehHistory'].dropna().apply(lambda histlist: hist in histlist)"
   ]
  },
  {
   "cell_type": "code",
   "execution_count": 44,
   "id": "afe72e61",
   "metadata": {},
   "outputs": [],
   "source": [
    "columns_to_drop.append('VehHistory')"
   ]
  },
  {
   "cell_type": "markdown",
   "id": "9a6e56ef",
   "metadata": {},
   "source": [
    "# VehListdays\n",
    "\n",
    "Good to leave alone besides nas. Fill those with median."
   ]
  },
  {
   "cell_type": "code",
   "execution_count": 45,
   "id": "b1f8d413",
   "metadata": {
    "scrolled": false
   },
   "outputs": [],
   "source": [
    "traindf['VehListdays'].fillna(traindf['VehListdays'].median(), inplace = True)"
   ]
  },
  {
   "cell_type": "markdown",
   "id": "525cbaff",
   "metadata": {},
   "source": [
    "# VehMake\n",
    "\n",
    "only two makes."
   ]
  },
  {
   "cell_type": "code",
   "execution_count": 46,
   "id": "d917bd6c",
   "metadata": {
    "scrolled": true
   },
   "outputs": [],
   "source": [
    "traindf = make_specific_dummies(traindf, 'VehMake', ['Jeep'])"
   ]
  },
  {
   "cell_type": "markdown",
   "id": "aa10390d",
   "metadata": {},
   "source": [
    "# VehMileage\n",
    "\n",
    "numeric. Fine to leave alone. Two NaNs fill with median."
   ]
  },
  {
   "cell_type": "code",
   "execution_count": 47,
   "id": "ec6e3420",
   "metadata": {},
   "outputs": [],
   "source": [
    "traindf['VehMileage'].fillna(traindf['VehMileage'].median(), inplace = True)"
   ]
  },
  {
   "cell_type": "markdown",
   "id": "1f0302a5",
   "metadata": {},
   "source": [
    "# VehModel\n",
    "\n",
    "These are 1:1 with Make since there are only two models and two makes."
   ]
  },
  {
   "cell_type": "code",
   "execution_count": 48,
   "id": "7cfb1954",
   "metadata": {},
   "outputs": [],
   "source": [
    "columns_to_drop.append('VehModel')"
   ]
  },
  {
   "cell_type": "markdown",
   "id": "eb92e146",
   "metadata": {},
   "source": [
    "# VehPriceLabel\n",
    "\n",
    "I'm guessing missing values are \"bad\". These will be the missing dummy."
   ]
  },
  {
   "cell_type": "code",
   "execution_count": 49,
   "id": "03a3856a",
   "metadata": {},
   "outputs": [
    {
     "data": {
      "text/plain": [
       "array(['Fair Price', 'Good Deal', 'Great Deal'], dtype=object)"
      ]
     },
     "execution_count": 49,
     "metadata": {},
     "output_type": "execute_result"
    }
   ],
   "source": [
    "price_labels = traindf['VehPriceLabel'].unique()[:3]\n",
    "price_labels"
   ]
  },
  {
   "cell_type": "code",
   "execution_count": 50,
   "id": "598079bd",
   "metadata": {},
   "outputs": [],
   "source": [
    "traindf = make_specific_dummies(traindf,'VehPriceLabel', price_labels)"
   ]
  },
  {
   "cell_type": "markdown",
   "id": "7dfa04e1",
   "metadata": {},
   "source": [
    "# VehSellerNotes\n",
    "\n",
    "I'd love to go through this to mark off important notes. But that will take time that I unfortunately don't have."
   ]
  },
  {
   "cell_type": "code",
   "execution_count": 51,
   "id": "c04bfb50",
   "metadata": {},
   "outputs": [],
   "source": [
    "\n",
    "columns_to_drop.append('VehSellerNotes')"
   ]
  },
  {
   "cell_type": "markdown",
   "id": "e6ce5be6",
   "metadata": {},
   "source": [
    "# VehType\n",
    "all the same."
   ]
  },
  {
   "cell_type": "code",
   "execution_count": 52,
   "id": "05265277",
   "metadata": {},
   "outputs": [],
   "source": [
    "columns_to_drop.append('VehType')"
   ]
  },
  {
   "cell_type": "markdown",
   "id": "4da1d063",
   "metadata": {},
   "source": [
    "# VehTransmission\n",
    "\n",
    "These are overwhelmingly 8-speed automatic. I don't think I will be able to extract much use out of this."
   ]
  },
  {
   "cell_type": "code",
   "execution_count": 53,
   "id": "42bdc77d",
   "metadata": {},
   "outputs": [],
   "source": [
    "columns_to_drop.append('VehTransmission')"
   ]
  },
  {
   "cell_type": "markdown",
   "id": "1379b014",
   "metadata": {},
   "source": [
    "# VehYear\n",
    "\n",
    "make dummies from these. A certain year may be favorable."
   ]
  },
  {
   "cell_type": "code",
   "execution_count": 54,
   "id": "277ca799",
   "metadata": {},
   "outputs": [
    {
     "data": {
      "text/plain": [
       "array([2015, 2017, 2018, 2019, 2016], dtype=int64)"
      ]
     },
     "execution_count": 54,
     "metadata": {},
     "output_type": "execute_result"
    }
   ],
   "source": [
    "years = traindf['VehYear'].unique()\n",
    "years"
   ]
  },
  {
   "cell_type": "code",
   "execution_count": 55,
   "id": "11b53a11",
   "metadata": {},
   "outputs": [],
   "source": [
    "traindf = make_specific_dummies(traindf, 'VehYear', years)"
   ]
  },
  {
   "cell_type": "markdown",
   "id": "9fd06d24",
   "metadata": {},
   "source": [
    "# VehTrim\n",
    "\n",
    "the classification target."
   ]
  },
  {
   "cell_type": "code",
   "execution_count": 56,
   "id": "69a2eed8",
   "metadata": {},
   "outputs": [],
   "source": [
    "#save as a separate series\n",
    "trim_data = traindf['Vehicle_Trim']\n",
    "trim_data.to_csv('../data/train_trim_data.csv')\n",
    "\n",
    "#drop\n",
    "columns_to_drop.append('Vehicle_Trim')"
   ]
  },
  {
   "cell_type": "markdown",
   "id": "763047d4",
   "metadata": {},
   "source": [
    "# finish up and save"
   ]
  },
  {
   "cell_type": "code",
   "execution_count": 57,
   "id": "18d97155",
   "metadata": {},
   "outputs": [],
   "source": [
    "#drop columns\n",
    "traindf.drop(columns = columns_to_drop, inplace = True)"
   ]
  },
  {
   "cell_type": "code",
   "execution_count": 58,
   "id": "33ed1960",
   "metadata": {
    "scrolled": false
   },
   "outputs": [
    {
     "name": "stdout",
     "output_type": "stream",
     "text": [
      "<class 'pandas.core.frame.DataFrame'>\n",
      "RangeIndex: 6298 entries, 0 to 6297\n",
      "Columns: 244 entries, SellerIsPriv to VehYear_2016\n",
      "dtypes: float64(244)\n",
      "memory usage: 11.7 MB\n"
     ]
    }
   ],
   "source": [
    "#turn all columns into floats for saving\n",
    "traindf = traindf.astype(float)\n",
    "traindf.info()"
   ]
  },
  {
   "cell_type": "code",
   "execution_count": 59,
   "id": "8bc455f7",
   "metadata": {},
   "outputs": [],
   "source": [
    "#many rows are missing dealer list price, unfortunately. Drop these for now --- that's our target.\n",
    "traindf = traindf.dropna()"
   ]
  },
  {
   "cell_type": "code",
   "execution_count": 60,
   "id": "22ab7916",
   "metadata": {
    "scrolled": true
   },
   "outputs": [],
   "source": [
    "#save processed training data\n",
    "processed_train_path = '../data/train_processed.csv'\n",
    "traindf.to_csv(processed_train_path, index=None)"
   ]
  },
  {
   "cell_type": "markdown",
   "id": "198f7894",
   "metadata": {},
   "source": [
    "# Repeat entire process for testing data.\n",
    "\n",
    "Ideally a lot of this would be made with a single python script and some nice custom functions. For the sake of this challenge, I am copy-pasting."
   ]
  },
  {
   "cell_type": "code",
   "execution_count": 61,
   "id": "834a25ab",
   "metadata": {},
   "outputs": [
    {
     "name": "stdout",
     "output_type": "stream",
     "text": [
      "<class 'pandas.core.frame.DataFrame'>\n",
      "RangeIndex: 1000 entries, 0 to 999\n",
      "Data columns (total 27 columns):\n",
      " #   Column           Non-Null Count  Dtype  \n",
      "---  ------           --------------  -----  \n",
      " 0   ListingID        1000 non-null   int64  \n",
      " 1   SellerCity       1000 non-null   object \n",
      " 2   SellerIsPriv     1000 non-null   bool   \n",
      " 3   SellerListSrc    1000 non-null   object \n",
      " 4   SellerName       1000 non-null   object \n",
      " 5   SellerRating     1000 non-null   float64\n",
      " 6   SellerRevCnt     1000 non-null   int64  \n",
      " 7   SellerState      1000 non-null   object \n",
      " 8   SellerZip        1000 non-null   int64  \n",
      " 9   VehBodystyle     1000 non-null   object \n",
      " 10  VehCertified     1000 non-null   bool   \n",
      " 11  VehColorExt      993 non-null    object \n",
      " 12  VehColorInt      892 non-null    object \n",
      " 13  VehDriveTrain    936 non-null    object \n",
      " 14  VehEngine        942 non-null    object \n",
      " 15  VehFeats         963 non-null    object \n",
      " 16  VehFuel          1000 non-null   object \n",
      " 17  VehHistory       973 non-null    object \n",
      " 18  VehListdays      1000 non-null   float64\n",
      " 19  VehMake          1000 non-null   object \n",
      " 20  VehMileage       999 non-null    float64\n",
      " 21  VehModel         1000 non-null   object \n",
      " 22  VehPriceLabel    962 non-null    object \n",
      " 23  VehSellerNotes   959 non-null    object \n",
      " 24  VehType          1000 non-null   object \n",
      " 25  VehTransmission  973 non-null    object \n",
      " 26  VehYear          1000 non-null   int64  \n",
      "dtypes: bool(2), float64(3), int64(4), object(18)\n",
      "memory usage: 197.4+ KB\n"
     ]
    }
   ],
   "source": [
    "testdf = pd.read_csv(data_path + test_data_filename)\n",
    "testdf.info()"
   ]
  },
  {
   "cell_type": "code",
   "execution_count": 62,
   "id": "23e68553",
   "metadata": {},
   "outputs": [],
   "source": [
    "testdf = make_specific_dummies(testdf, 'SellerCity', cities)\n",
    "testdf = make_specific_dummies(testdf, 'SellerListSrc', sources)\n",
    "testdf = make_specific_dummies(testdf, 'SellerName', sellers)\n",
    "testdf = make_specific_dummies(testdf,'SellerState', states)\n",
    "testdf['VehColorExt'].fillna('', inplace = True)\n",
    "for color in color_synonyms:\n",
    "    this_color = color[0]\n",
    "    these_synonyms = color[1]\n",
    "    testdf['ext_' + this_color] = 0\n",
    "    for synonym in these_synonyms:\n",
    "        testdf['ext_' + this_color] = testdf[['VehColorExt','ext_' + this_color]].apply(lambda entry: 1 if synonym in entry['VehColorExt'].lower() or entry['ext_' + this_color] else 0, axis = 1)\n",
    "for texture in texture_synonyms:\n",
    "    this_texture = texture[0]\n",
    "    these_synonyms = texture[1]\n",
    "    testdf['ext_' + this_texture] = 0\n",
    "    for synonym in these_synonyms:\n",
    "        #make the dummy value 1 if the synonym is in the description or if it's already 1\n",
    "        testdf['ext_' + this_texture] = testdf[['VehColorExt', 'ext_' + this_texture]].apply(lambda entry: 1 if synonym in entry['VehColorExt'].lower() or entry['ext_' + this_texture] else 0 , axis = 1)\n",
    "testdf['VehColorInt'].fillna('', inplace = True)\n",
    "for color in int_color_synonyms:\n",
    "    this_color = color[0]\n",
    "    these_synonyms = color[1]\n",
    "    #create a column of zeros for this feature\n",
    "    testdf['int_' + this_color] = 0\n",
    "    #fill the new column if the scanned column has any of the synonyms\n",
    "    for synonym in these_synonyms:\n",
    "        #make the dummy value 1 if the synonym is in the description or if it's already 1\n",
    "        testdf['int_' + this_color] = testdf[['VehColorInt', 'int_' + this_color]].apply(lambda entry: 1 if synonym in entry['VehColorInt'].lower() or entry['int_' + this_color] else 0 , axis = 1)\n",
    "testdf = make_inclusive_dummies(testdf, 'VehColorInt', 'int', styles)\n",
    "testdf = make_inclusive_dummies(testdf, 'VehColorInt', 'int', materials)\n",
    "testdf['VehDriveTrain'].fillna('', inplace = True)\n",
    "testdf = make_synonym_dummies(testdf, 'VehDriveTrain', 'drivetrain', drivetrain_synonyms)\n",
    "testdf['VehFeats'] = testdf['VehFeats'].dropna().apply(lambda entry: eval(entry))\n",
    "for feat in feats:\n",
    "    testdf['feat_' + feat] = 0\n",
    "    testdf['feat_' + feat] = testdf['VehFeats'].dropna().apply(lambda featlist: feat in featlist)\n",
    "testdf = make_specific_dummies(testdf, 'VehFuel', fuels )\n",
    "\n",
    "testdf['VehHistory'].fillna('', inplace = True)\n",
    "testdf['VehHistory'] = testdf['VehHistory'].apply(lambda this_history: this_history.split(', '))\n",
    "for hist in hists:\n",
    "    testdf['hist_' + hist] = testdf['VehHistory'].dropna().apply(lambda histlist: hist in histlist)\n",
    "testdf['VehListdays'].fillna(testdf['VehListdays'].median(), inplace = True)\n",
    "testdf = make_specific_dummies(testdf, 'VehMake', ['Jeep'])\n",
    "testdf['VehMileage'].fillna(testdf['VehMileage'].median(), inplace = True)\n",
    "testdf = make_specific_dummies(testdf,'VehPriceLabel', price_labels)\n",
    "testdf = make_specific_dummies(testdf, 'VehYear', years)"
   ]
  },
  {
   "cell_type": "code",
   "execution_count": 63,
   "id": "0ae9b983",
   "metadata": {},
   "outputs": [
    {
     "data": {
      "text/plain": [
       "0      [4-Wheel Disc Brakes, ABS, Active Suspension, ...\n",
       "1      [12v Power Outlet, ABS Brakes, Air Conditionin...\n",
       "2      [1st and 2nd row curtain head airbags, 4-wheel...\n",
       "3      [1st and 2nd row curtain head airbags, 4-wheel...\n",
       "4      [1st and 2nd row curtain head airbags, 4-wheel...\n",
       "                             ...                        \n",
       "995    [ABS brakes, Air Conditioning, AM/FM radio: Si...\n",
       "996    [Alloy Wheels, Android Auto, Antilock Brakes, ...\n",
       "997    [4-Wheel Disc Brakes, ABS, Active Suspension, ...\n",
       "998    [Adaptive Cruise Control, Alloy Wheels, Androi...\n",
       "999    [1st and 2nd row curtain head airbags, 4-wheel...\n",
       "Name: VehFeats, Length: 1000, dtype: object"
      ]
     },
     "execution_count": 63,
     "metadata": {},
     "output_type": "execute_result"
    }
   ],
   "source": [
    "testdf['VehFeats']"
   ]
  },
  {
   "cell_type": "code",
   "execution_count": 64,
   "id": "90fa8ae3",
   "metadata": {
    "scrolled": true
   },
   "outputs": [],
   "source": [
    "# drop columns.\n",
    "# it looks like vehicle trim isn't in the test data anyway.\n",
    "columns_to_drop.remove('Vehicle_Trim')"
   ]
  },
  {
   "cell_type": "code",
   "execution_count": 65,
   "id": "22cc6687",
   "metadata": {},
   "outputs": [],
   "source": [
    "\n",
    "testdf.drop(columns = columns_to_drop, inplace = True)"
   ]
  },
  {
   "cell_type": "code",
   "execution_count": 66,
   "id": "36b6a4af",
   "metadata": {},
   "outputs": [
    {
     "data": {
      "text/plain": [
       "Index(['SellerIsPriv', 'SellerRating', 'SellerRevCnt', 'VehCertified',\n",
       "       'VehListdays', 'VehMileage', 'Dealer_Listing_Price',\n",
       "       'SellerCity_Chicago', 'SellerCity_Battle Creek', 'SellerCity_Columbus',\n",
       "       ...\n",
       "       'hist_4 Owners', 'VehMake_Jeep', 'VehPriceLabel_Fair Price',\n",
       "       'VehPriceLabel_Good Deal', 'VehPriceLabel_Great Deal', 'VehYear_2015',\n",
       "       'VehYear_2017', 'VehYear_2018', 'VehYear_2019', 'VehYear_2016'],\n",
       "      dtype='object', length=244)"
      ]
     },
     "execution_count": 66,
     "metadata": {},
     "output_type": "execute_result"
    }
   ],
   "source": [
    "traindf.columns"
   ]
  },
  {
   "cell_type": "code",
   "execution_count": 67,
   "id": "d49a83d2",
   "metadata": {},
   "outputs": [
    {
     "data": {
      "text/plain": [
       "Index(['SellerIsPriv', 'SellerRating', 'SellerRevCnt', 'VehCertified',\n",
       "       'VehListdays', 'VehMileage', 'SellerCity_Chicago',\n",
       "       'SellerCity_Battle Creek', 'SellerCity_Columbus',\n",
       "       'SellerCity_Louisville',\n",
       "       ...\n",
       "       'hist_4 Owners', 'VehMake_Jeep', 'VehPriceLabel_Fair Price',\n",
       "       'VehPriceLabel_Good Deal', 'VehPriceLabel_Great Deal', 'VehYear_2015',\n",
       "       'VehYear_2017', 'VehYear_2018', 'VehYear_2019', 'VehYear_2016'],\n",
       "      dtype='object', length=243)"
      ]
     },
     "execution_count": 67,
     "metadata": {},
     "output_type": "execute_result"
    }
   ],
   "source": [
    "#The testing data has one fewer column --- that's the dealer price in training data!\n",
    "testdf.columns"
   ]
  },
  {
   "cell_type": "code",
   "execution_count": 68,
   "id": "abbe888a",
   "metadata": {
    "scrolled": true
   },
   "outputs": [],
   "source": [
    "# the feats introduced a lot of nulls --- fill these with 0\n",
    "testdf.fillna(0., inplace = True)"
   ]
  },
  {
   "cell_type": "code",
   "execution_count": 69,
   "id": "e1f10a84",
   "metadata": {},
   "outputs": [],
   "source": [
    "#turn bools into floats\n",
    "testdf = testdf.astype(float)\n",
    "\n",
    "#save the test data.\n",
    "processed_test_path = '../data/test_processed.csv'\n",
    "testdf.to_csv(processed_test_path, index=None)"
   ]
  },
  {
   "cell_type": "code",
   "execution_count": 70,
   "id": "8b4e1370",
   "metadata": {},
   "outputs": [],
   "source": [
    "#from here, go to notebook 3 to train models."
   ]
  }
 ],
 "metadata": {
  "kernelspec": {
   "display_name": "Python 3 (ipykernel)",
   "language": "python",
   "name": "python3"
  },
  "language_info": {
   "codemirror_mode": {
    "name": "ipython",
    "version": 3
   },
   "file_extension": ".py",
   "mimetype": "text/x-python",
   "name": "python",
   "nbconvert_exporter": "python",
   "pygments_lexer": "ipython3",
   "version": "3.9.7"
  }
 },
 "nbformat": 4,
 "nbformat_minor": 5
}
