{
 "cells": [
  {
   "cell_type": "markdown",
   "id": "cf85f942",
   "metadata": {},
   "source": [
    "model\n",
    "---\n",
    "\n",
    "This notebook creates a linear regression model from the training data and applies it to the test data."
   ]
  },
  {
   "cell_type": "code",
   "execution_count": 46,
   "id": "bb037e0e",
   "metadata": {},
   "outputs": [],
   "source": [
    "#import libraries\n",
    "import os\n",
    "import pandas as pd\n",
    "import matplotlib.pyplot as plt\n",
    "import numpy as np\n",
    "from sklearn.linear_model import LinearRegression\n",
    "from sklearn.model_selection import cross_val_score#, train_test_split"
   ]
  },
  {
   "cell_type": "code",
   "execution_count": 47,
   "id": "1b1b352c",
   "metadata": {},
   "outputs": [
    {
     "name": "stdout",
     "output_type": "stream",
     "text": [
      "<class 'pandas.core.frame.DataFrame'>\n",
      "RangeIndex: 5971 entries, 0 to 5970\n",
      "Columns: 244 entries, SellerIsPriv to VehYear_2016\n",
      "dtypes: float64(244)\n",
      "memory usage: 11.1 MB\n"
     ]
    }
   ],
   "source": [
    "train_data_path = '../data/train_processed.csv'\n",
    "test_data_path = '../data/test_processed.csv'\n",
    "\n",
    "traindf = pd.read_csv(train_data_path)\n",
    "testdf = pd.read_csv(test_data_path)\n",
    "traindf.info()"
   ]
  },
  {
   "cell_type": "code",
   "execution_count": 61,
   "id": "d5cc1467",
   "metadata": {},
   "outputs": [
    {
     "name": "stdout",
     "output_type": "stream",
     "text": [
      "<class 'pandas.core.frame.DataFrame'>\n",
      "RangeIndex: 1000 entries, 0 to 999\n",
      "Columns: 244 entries, SellerIsPriv to Dealer_Listing_Price\n",
      "dtypes: float64(244)\n",
      "memory usage: 1.9 MB\n"
     ]
    }
   ],
   "source": [
    "testdf.info()"
   ]
  },
  {
   "cell_type": "code",
   "execution_count": 48,
   "id": "61425801",
   "metadata": {},
   "outputs": [
    {
     "data": {
      "text/plain": [
       "True"
      ]
     },
     "execution_count": 48,
     "metadata": {},
     "output_type": "execute_result"
    }
   ],
   "source": [
    "#just to double-check, the training and testing data columns are the same.\n",
    "\n",
    "traincols = traindf.columns.to_list()\n",
    "traincols.remove('Dealer_Listing_Price')\n",
    "\n",
    "traincols == testdf.columns.to_list()"
   ]
  },
  {
   "cell_type": "markdown",
   "id": "748eacd7",
   "metadata": {},
   "source": [
    "# predicting dealer listing price"
   ]
  },
  {
   "cell_type": "code",
   "execution_count": 49,
   "id": "4a61def8",
   "metadata": {},
   "outputs": [],
   "source": [
    "###### train-test split the training data to check\n",
    "X = traindf.drop(columns = 'Dealer_Listing_Price')\n",
    "y = traindf['Dealer_Listing_Price']\n",
    "\n",
    "# actually, no need to tts. Just use cross_val_score. The linear fit is the same.\n",
    "# Xtrain, Xtest, ytrain, ytest = train_test_split(X, y, random_state = 1916)"
   ]
  },
  {
   "cell_type": "code",
   "execution_count": 50,
   "id": "dda514a7",
   "metadata": {},
   "outputs": [
    {
     "data": {
      "text/plain": [
       "array([0.80326272, 0.80303177, 0.82342441, 0.81447254, 0.77250683])"
      ]
     },
     "execution_count": 50,
     "metadata": {},
     "output_type": "execute_result"
    }
   ],
   "source": [
    "#instantiate and fit a linear model to the training data using 5 cv folds\n",
    "\n",
    "lr = LinearRegression()\n",
    "cross_val_score(lr, X, y, cv = 5)"
   ]
  },
  {
   "cell_type": "code",
   "execution_count": 51,
   "id": "f1984d1e",
   "metadata": {},
   "outputs": [],
   "source": [
    "# the fit is O.K. Use the linear regression on the test set and save."
   ]
  },
  {
   "cell_type": "code",
   "execution_count": 52,
   "id": "4331d6df",
   "metadata": {},
   "outputs": [],
   "source": [
    "lr.fit(X, y)\n",
    "preds = lr.predict(testdf)"
   ]
  },
  {
   "cell_type": "code",
   "execution_count": 56,
   "id": "0ee25e4b",
   "metadata": {},
   "outputs": [
    {
     "data": {
      "text/plain": [
       "(32426.302066692955, 6912.640352068063, 32038.09613130129, 7524.55733995572)"
      ]
     },
     "execution_count": 56,
     "metadata": {},
     "output_type": "execute_result"
    }
   ],
   "source": [
    "#the mean and std of the predicted values for the test set are similar to the dealer listing prices in the training set.\n",
    "preds.mean(), preds.std(), y.mean(), y.std()"
   ]
  },
  {
   "cell_type": "code",
   "execution_count": 58,
   "id": "9eb32b1a",
   "metadata": {
    "scrolled": false
   },
   "outputs": [
    {
     "data": {
      "text/plain": [
       "0      43402.905300\n",
       "1      21655.212581\n",
       "2      22108.147940\n",
       "3      24701.152495\n",
       "4      40854.385239\n",
       "           ...     \n",
       "995    33344.387246\n",
       "996    35429.419922\n",
       "997    42498.278455\n",
       "998    46828.779463\n",
       "999    39383.038540\n",
       "Name: Dealer_Listing_Price, Length: 1000, dtype: float64"
      ]
     },
     "execution_count": 58,
     "metadata": {},
     "output_type": "execute_result"
    }
   ],
   "source": [
    "# look at some predictions\n",
    "testdf['Dealer_Listing_Price'] = preds\n",
    "testdf['Dealer_Listing_Price']"
   ]
  },
  {
   "cell_type": "code",
   "execution_count": 59,
   "id": "16f2115d",
   "metadata": {},
   "outputs": [
    {
     "data": {
      "text/html": [
       "<div>\n",
       "<style scoped>\n",
       "    .dataframe tbody tr th:only-of-type {\n",
       "        vertical-align: middle;\n",
       "    }\n",
       "\n",
       "    .dataframe tbody tr th {\n",
       "        vertical-align: top;\n",
       "    }\n",
       "\n",
       "    .dataframe thead th {\n",
       "        text-align: right;\n",
       "    }\n",
       "</style>\n",
       "<table border=\"1\" class=\"dataframe\">\n",
       "  <thead>\n",
       "    <tr style=\"text-align: right;\">\n",
       "      <th></th>\n",
       "      <th>SellerIsPriv</th>\n",
       "      <th>SellerRating</th>\n",
       "      <th>SellerRevCnt</th>\n",
       "      <th>VehCertified</th>\n",
       "      <th>VehListdays</th>\n",
       "      <th>VehMileage</th>\n",
       "      <th>SellerCity_Chicago</th>\n",
       "      <th>SellerCity_Battle Creek</th>\n",
       "      <th>SellerCity_Columbus</th>\n",
       "      <th>SellerCity_Louisville</th>\n",
       "      <th>...</th>\n",
       "      <th>VehMake_Jeep</th>\n",
       "      <th>VehPriceLabel_Fair Price</th>\n",
       "      <th>VehPriceLabel_Good Deal</th>\n",
       "      <th>VehPriceLabel_Great Deal</th>\n",
       "      <th>VehYear_2015</th>\n",
       "      <th>VehYear_2017</th>\n",
       "      <th>VehYear_2018</th>\n",
       "      <th>VehYear_2019</th>\n",
       "      <th>VehYear_2016</th>\n",
       "      <th>Dealer_Listing_Price</th>\n",
       "    </tr>\n",
       "  </thead>\n",
       "  <tbody>\n",
       "    <tr>\n",
       "      <th>0</th>\n",
       "      <td>0.0</td>\n",
       "      <td>2.5</td>\n",
       "      <td>59.0</td>\n",
       "      <td>0.0</td>\n",
       "      <td>143.991262</td>\n",
       "      <td>13625.0</td>\n",
       "      <td>0.0</td>\n",
       "      <td>0.0</td>\n",
       "      <td>0.0</td>\n",
       "      <td>0.0</td>\n",
       "      <td>...</td>\n",
       "      <td>0.0</td>\n",
       "      <td>0.0</td>\n",
       "      <td>1.0</td>\n",
       "      <td>0.0</td>\n",
       "      <td>0.0</td>\n",
       "      <td>0.0</td>\n",
       "      <td>1.0</td>\n",
       "      <td>0.0</td>\n",
       "      <td>0.0</td>\n",
       "      <td>43402.905300</td>\n",
       "    </tr>\n",
       "    <tr>\n",
       "      <th>1</th>\n",
       "      <td>0.0</td>\n",
       "      <td>4.7</td>\n",
       "      <td>2116.0</td>\n",
       "      <td>0.0</td>\n",
       "      <td>138.770486</td>\n",
       "      <td>42553.0</td>\n",
       "      <td>0.0</td>\n",
       "      <td>0.0</td>\n",
       "      <td>0.0</td>\n",
       "      <td>0.0</td>\n",
       "      <td>...</td>\n",
       "      <td>1.0</td>\n",
       "      <td>0.0</td>\n",
       "      <td>1.0</td>\n",
       "      <td>0.0</td>\n",
       "      <td>0.0</td>\n",
       "      <td>1.0</td>\n",
       "      <td>0.0</td>\n",
       "      <td>0.0</td>\n",
       "      <td>0.0</td>\n",
       "      <td>21655.212581</td>\n",
       "    </tr>\n",
       "    <tr>\n",
       "      <th>2</th>\n",
       "      <td>0.0</td>\n",
       "      <td>3.9</td>\n",
       "      <td>46.0</td>\n",
       "      <td>1.0</td>\n",
       "      <td>31.951088</td>\n",
       "      <td>48951.0</td>\n",
       "      <td>0.0</td>\n",
       "      <td>0.0</td>\n",
       "      <td>0.0</td>\n",
       "      <td>0.0</td>\n",
       "      <td>...</td>\n",
       "      <td>1.0</td>\n",
       "      <td>0.0</td>\n",
       "      <td>1.0</td>\n",
       "      <td>0.0</td>\n",
       "      <td>1.0</td>\n",
       "      <td>0.0</td>\n",
       "      <td>0.0</td>\n",
       "      <td>0.0</td>\n",
       "      <td>0.0</td>\n",
       "      <td>22108.147940</td>\n",
       "    </tr>\n",
       "    <tr>\n",
       "      <th>3</th>\n",
       "      <td>0.0</td>\n",
       "      <td>4.5</td>\n",
       "      <td>1075.0</td>\n",
       "      <td>0.0</td>\n",
       "      <td>5.950127</td>\n",
       "      <td>44179.0</td>\n",
       "      <td>0.0</td>\n",
       "      <td>0.0</td>\n",
       "      <td>0.0</td>\n",
       "      <td>1.0</td>\n",
       "      <td>...</td>\n",
       "      <td>1.0</td>\n",
       "      <td>0.0</td>\n",
       "      <td>1.0</td>\n",
       "      <td>0.0</td>\n",
       "      <td>1.0</td>\n",
       "      <td>0.0</td>\n",
       "      <td>0.0</td>\n",
       "      <td>0.0</td>\n",
       "      <td>0.0</td>\n",
       "      <td>24701.152495</td>\n",
       "    </tr>\n",
       "    <tr>\n",
       "      <th>4</th>\n",
       "      <td>0.0</td>\n",
       "      <td>4.6</td>\n",
       "      <td>162.0</td>\n",
       "      <td>0.0</td>\n",
       "      <td>24.672986</td>\n",
       "      <td>22269.0</td>\n",
       "      <td>0.0</td>\n",
       "      <td>0.0</td>\n",
       "      <td>0.0</td>\n",
       "      <td>0.0</td>\n",
       "      <td>...</td>\n",
       "      <td>0.0</td>\n",
       "      <td>0.0</td>\n",
       "      <td>1.0</td>\n",
       "      <td>0.0</td>\n",
       "      <td>0.0</td>\n",
       "      <td>0.0</td>\n",
       "      <td>1.0</td>\n",
       "      <td>0.0</td>\n",
       "      <td>0.0</td>\n",
       "      <td>40854.385239</td>\n",
       "    </tr>\n",
       "    <tr>\n",
       "      <th>...</th>\n",
       "      <td>...</td>\n",
       "      <td>...</td>\n",
       "      <td>...</td>\n",
       "      <td>...</td>\n",
       "      <td>...</td>\n",
       "      <td>...</td>\n",
       "      <td>...</td>\n",
       "      <td>...</td>\n",
       "      <td>...</td>\n",
       "      <td>...</td>\n",
       "      <td>...</td>\n",
       "      <td>...</td>\n",
       "      <td>...</td>\n",
       "      <td>...</td>\n",
       "      <td>...</td>\n",
       "      <td>...</td>\n",
       "      <td>...</td>\n",
       "      <td>...</td>\n",
       "      <td>...</td>\n",
       "      <td>...</td>\n",
       "      <td>...</td>\n",
       "    </tr>\n",
       "    <tr>\n",
       "      <th>995</th>\n",
       "      <td>0.0</td>\n",
       "      <td>4.8</td>\n",
       "      <td>1081.0</td>\n",
       "      <td>0.0</td>\n",
       "      <td>18.091597</td>\n",
       "      <td>24744.0</td>\n",
       "      <td>0.0</td>\n",
       "      <td>0.0</td>\n",
       "      <td>0.0</td>\n",
       "      <td>0.0</td>\n",
       "      <td>...</td>\n",
       "      <td>1.0</td>\n",
       "      <td>0.0</td>\n",
       "      <td>1.0</td>\n",
       "      <td>0.0</td>\n",
       "      <td>0.0</td>\n",
       "      <td>1.0</td>\n",
       "      <td>0.0</td>\n",
       "      <td>0.0</td>\n",
       "      <td>0.0</td>\n",
       "      <td>33344.387246</td>\n",
       "    </tr>\n",
       "    <tr>\n",
       "      <th>996</th>\n",
       "      <td>0.0</td>\n",
       "      <td>4.0</td>\n",
       "      <td>240.0</td>\n",
       "      <td>0.0</td>\n",
       "      <td>167.799676</td>\n",
       "      <td>5699.0</td>\n",
       "      <td>0.0</td>\n",
       "      <td>0.0</td>\n",
       "      <td>0.0</td>\n",
       "      <td>0.0</td>\n",
       "      <td>...</td>\n",
       "      <td>0.0</td>\n",
       "      <td>0.0</td>\n",
       "      <td>1.0</td>\n",
       "      <td>0.0</td>\n",
       "      <td>0.0</td>\n",
       "      <td>1.0</td>\n",
       "      <td>0.0</td>\n",
       "      <td>0.0</td>\n",
       "      <td>0.0</td>\n",
       "      <td>35429.419922</td>\n",
       "    </tr>\n",
       "    <tr>\n",
       "      <th>997</th>\n",
       "      <td>0.0</td>\n",
       "      <td>5.0</td>\n",
       "      <td>134.0</td>\n",
       "      <td>0.0</td>\n",
       "      <td>46.215625</td>\n",
       "      <td>17985.0</td>\n",
       "      <td>0.0</td>\n",
       "      <td>0.0</td>\n",
       "      <td>0.0</td>\n",
       "      <td>0.0</td>\n",
       "      <td>...</td>\n",
       "      <td>0.0</td>\n",
       "      <td>0.0</td>\n",
       "      <td>1.0</td>\n",
       "      <td>0.0</td>\n",
       "      <td>0.0</td>\n",
       "      <td>0.0</td>\n",
       "      <td>1.0</td>\n",
       "      <td>0.0</td>\n",
       "      <td>0.0</td>\n",
       "      <td>42498.278455</td>\n",
       "    </tr>\n",
       "    <tr>\n",
       "      <th>998</th>\n",
       "      <td>0.0</td>\n",
       "      <td>3.8</td>\n",
       "      <td>7.0</td>\n",
       "      <td>0.0</td>\n",
       "      <td>14.907535</td>\n",
       "      <td>27.0</td>\n",
       "      <td>0.0</td>\n",
       "      <td>0.0</td>\n",
       "      <td>0.0</td>\n",
       "      <td>0.0</td>\n",
       "      <td>...</td>\n",
       "      <td>1.0</td>\n",
       "      <td>1.0</td>\n",
       "      <td>0.0</td>\n",
       "      <td>0.0</td>\n",
       "      <td>0.0</td>\n",
       "      <td>0.0</td>\n",
       "      <td>1.0</td>\n",
       "      <td>0.0</td>\n",
       "      <td>0.0</td>\n",
       "      <td>46828.779463</td>\n",
       "    </tr>\n",
       "    <tr>\n",
       "      <th>999</th>\n",
       "      <td>0.0</td>\n",
       "      <td>4.9</td>\n",
       "      <td>28.0</td>\n",
       "      <td>0.0</td>\n",
       "      <td>144.833935</td>\n",
       "      <td>23435.0</td>\n",
       "      <td>0.0</td>\n",
       "      <td>0.0</td>\n",
       "      <td>0.0</td>\n",
       "      <td>0.0</td>\n",
       "      <td>...</td>\n",
       "      <td>0.0</td>\n",
       "      <td>0.0</td>\n",
       "      <td>1.0</td>\n",
       "      <td>0.0</td>\n",
       "      <td>0.0</td>\n",
       "      <td>0.0</td>\n",
       "      <td>1.0</td>\n",
       "      <td>0.0</td>\n",
       "      <td>0.0</td>\n",
       "      <td>39383.038540</td>\n",
       "    </tr>\n",
       "  </tbody>\n",
       "</table>\n",
       "<p>1000 rows × 244 columns</p>\n",
       "</div>"
      ],
      "text/plain": [
       "     SellerIsPriv  SellerRating  SellerRevCnt  VehCertified  VehListdays  \\\n",
       "0             0.0           2.5          59.0           0.0   143.991262   \n",
       "1             0.0           4.7        2116.0           0.0   138.770486   \n",
       "2             0.0           3.9          46.0           1.0    31.951088   \n",
       "3             0.0           4.5        1075.0           0.0     5.950127   \n",
       "4             0.0           4.6         162.0           0.0    24.672986   \n",
       "..            ...           ...           ...           ...          ...   \n",
       "995           0.0           4.8        1081.0           0.0    18.091597   \n",
       "996           0.0           4.0         240.0           0.0   167.799676   \n",
       "997           0.0           5.0         134.0           0.0    46.215625   \n",
       "998           0.0           3.8           7.0           0.0    14.907535   \n",
       "999           0.0           4.9          28.0           0.0   144.833935   \n",
       "\n",
       "     VehMileage  SellerCity_Chicago  SellerCity_Battle Creek  \\\n",
       "0       13625.0                 0.0                      0.0   \n",
       "1       42553.0                 0.0                      0.0   \n",
       "2       48951.0                 0.0                      0.0   \n",
       "3       44179.0                 0.0                      0.0   \n",
       "4       22269.0                 0.0                      0.0   \n",
       "..          ...                 ...                      ...   \n",
       "995     24744.0                 0.0                      0.0   \n",
       "996      5699.0                 0.0                      0.0   \n",
       "997     17985.0                 0.0                      0.0   \n",
       "998        27.0                 0.0                      0.0   \n",
       "999     23435.0                 0.0                      0.0   \n",
       "\n",
       "     SellerCity_Columbus  SellerCity_Louisville  ...  VehMake_Jeep  \\\n",
       "0                    0.0                    0.0  ...           0.0   \n",
       "1                    0.0                    0.0  ...           1.0   \n",
       "2                    0.0                    0.0  ...           1.0   \n",
       "3                    0.0                    1.0  ...           1.0   \n",
       "4                    0.0                    0.0  ...           0.0   \n",
       "..                   ...                    ...  ...           ...   \n",
       "995                  0.0                    0.0  ...           1.0   \n",
       "996                  0.0                    0.0  ...           0.0   \n",
       "997                  0.0                    0.0  ...           0.0   \n",
       "998                  0.0                    0.0  ...           1.0   \n",
       "999                  0.0                    0.0  ...           0.0   \n",
       "\n",
       "     VehPriceLabel_Fair Price  VehPriceLabel_Good Deal  \\\n",
       "0                         0.0                      1.0   \n",
       "1                         0.0                      1.0   \n",
       "2                         0.0                      1.0   \n",
       "3                         0.0                      1.0   \n",
       "4                         0.0                      1.0   \n",
       "..                        ...                      ...   \n",
       "995                       0.0                      1.0   \n",
       "996                       0.0                      1.0   \n",
       "997                       0.0                      1.0   \n",
       "998                       1.0                      0.0   \n",
       "999                       0.0                      1.0   \n",
       "\n",
       "     VehPriceLabel_Great Deal  VehYear_2015  VehYear_2017  VehYear_2018  \\\n",
       "0                         0.0           0.0           0.0           1.0   \n",
       "1                         0.0           0.0           1.0           0.0   \n",
       "2                         0.0           1.0           0.0           0.0   \n",
       "3                         0.0           1.0           0.0           0.0   \n",
       "4                         0.0           0.0           0.0           1.0   \n",
       "..                        ...           ...           ...           ...   \n",
       "995                       0.0           0.0           1.0           0.0   \n",
       "996                       0.0           0.0           1.0           0.0   \n",
       "997                       0.0           0.0           0.0           1.0   \n",
       "998                       0.0           0.0           0.0           1.0   \n",
       "999                       0.0           0.0           0.0           1.0   \n",
       "\n",
       "     VehYear_2019  VehYear_2016  Dealer_Listing_Price  \n",
       "0             0.0           0.0          43402.905300  \n",
       "1             0.0           0.0          21655.212581  \n",
       "2             0.0           0.0          22108.147940  \n",
       "3             0.0           0.0          24701.152495  \n",
       "4             0.0           0.0          40854.385239  \n",
       "..            ...           ...                   ...  \n",
       "995           0.0           0.0          33344.387246  \n",
       "996           0.0           0.0          35429.419922  \n",
       "997           0.0           0.0          42498.278455  \n",
       "998           0.0           0.0          46828.779463  \n",
       "999           0.0           0.0          39383.038540  \n",
       "\n",
       "[1000 rows x 244 columns]"
      ]
     },
     "execution_count": 59,
     "metadata": {},
     "output_type": "execute_result"
    }
   ],
   "source": [
    "testdf"
   ]
  },
  {
   "cell_type": "markdown",
   "id": "86081876",
   "metadata": {},
   "source": [
    "# predicting trim"
   ]
  },
  {
   "cell_type": "code",
   "execution_count": 98,
   "id": "9c732643",
   "metadata": {},
   "outputs": [],
   "source": [
    "#imports\n",
    "from keras.layers import Dense\n",
    "from keras.models import Sequential"
   ]
  },
  {
   "cell_type": "code",
   "execution_count": 66,
   "id": "58844b17",
   "metadata": {},
   "outputs": [
    {
     "data": {
      "text/html": [
       "<div>\n",
       "<style scoped>\n",
       "    .dataframe tbody tr th:only-of-type {\n",
       "        vertical-align: middle;\n",
       "    }\n",
       "\n",
       "    .dataframe tbody tr th {\n",
       "        vertical-align: top;\n",
       "    }\n",
       "\n",
       "    .dataframe thead th {\n",
       "        text-align: right;\n",
       "    }\n",
       "</style>\n",
       "<table border=\"1\" class=\"dataframe\">\n",
       "  <thead>\n",
       "    <tr style=\"text-align: right;\">\n",
       "      <th></th>\n",
       "      <th>Vehicle_Trim</th>\n",
       "    </tr>\n",
       "  </thead>\n",
       "  <tbody>\n",
       "    <tr>\n",
       "      <th>0</th>\n",
       "      <td>High Altitude</td>\n",
       "    </tr>\n",
       "    <tr>\n",
       "      <th>1</th>\n",
       "      <td>NaN</td>\n",
       "    </tr>\n",
       "    <tr>\n",
       "      <th>2</th>\n",
       "      <td>Laredo</td>\n",
       "    </tr>\n",
       "    <tr>\n",
       "      <th>3</th>\n",
       "      <td>Limited</td>\n",
       "    </tr>\n",
       "    <tr>\n",
       "      <th>4</th>\n",
       "      <td>Luxury</td>\n",
       "    </tr>\n",
       "  </tbody>\n",
       "</table>\n",
       "</div>"
      ],
      "text/plain": [
       "    Vehicle_Trim\n",
       "0  High Altitude\n",
       "1            NaN\n",
       "2         Laredo\n",
       "3        Limited\n",
       "4         Luxury"
      ]
     },
     "execution_count": 66,
     "metadata": {},
     "output_type": "execute_result"
    }
   ],
   "source": [
    "#load the trim data\n",
    "trimdata = pd.read_csv('../data/train_trim_data.csv', index_col='Unnamed: 0')\n",
    "trimdata.head()"
   ]
  },
  {
   "cell_type": "code",
   "execution_count": 67,
   "id": "1072e37a",
   "metadata": {},
   "outputs": [],
   "source": [
    "#slap the trim back on\n",
    "traindf = traindf.join(trimdata)"
   ]
  },
  {
   "cell_type": "code",
   "execution_count": 71,
   "id": "4f7ddd98",
   "metadata": {},
   "outputs": [],
   "source": [
    "#remove nulls. A lot of the trims are missing.\n",
    "traindf.dropna(inplace=True)"
   ]
  },
  {
   "cell_type": "code",
   "execution_count": 78,
   "id": "5902a818",
   "metadata": {},
   "outputs": [],
   "source": [
    "# #get unique trims\n",
    "# trims = list(traindf['Vehicle_Trim'].unique())"
   ]
  },
  {
   "cell_type": "code",
   "execution_count": 133,
   "id": "35c472d3",
   "metadata": {},
   "outputs": [],
   "source": [
    "# trims.index('Limited')"
   ]
  },
  {
   "cell_type": "code",
   "execution_count": 135,
   "id": "2c56b5f3",
   "metadata": {},
   "outputs": [],
   "source": [
    "# #turn trim strings into a vector and vice versa.\n",
    "\n",
    "# def encode_trim(some_trim_string, unique_trim_list):\n",
    "#     encoded_trim_vector = np.full(len(unique_trim_list), 0)\n",
    "#     trim_index = list(unique_trim_list).index(some_trim_string)\n",
    "#     encoded_trim_vector[trim_index] = 1\n",
    "#     return encoded_trim_vector\n",
    "\n",
    "# def decode_trim(trim_vector, unique_trim_list):\n",
    "#     trim_index = list(trim_vector).index(1)\n",
    "#     decoded_trim_string = unique_trim_list[trim_index]\n",
    "#     return decoded_trim_string\n"
   ]
  },
  {
   "cell_type": "code",
   "execution_count": 134,
   "id": "7697cee1",
   "metadata": {},
   "outputs": [],
   "source": [
    "# #test them out\n",
    "# test_decode = np.full(len(trims), 0)\n",
    "# test_decode[5] = 1\n",
    "\n",
    "# test_encode = decode_trim(test_decode, trims)\n",
    "# test_encode"
   ]
  },
  {
   "cell_type": "code",
   "execution_count": 136,
   "id": "f4120938",
   "metadata": {
    "scrolled": false
   },
   "outputs": [
    {
     "data": {
      "text/plain": [
       "array([0, 0, 1, 0, 0, 0, 0, 0, 0, 0, 0, 0, 0, 0, 0, 0, 0, 0, 0, 0, 0, 0,\n",
       "       0, 0, 0, 0, 0, 0, 0])"
      ]
     },
     "execution_count": 136,
     "metadata": {},
     "output_type": "execute_result"
    }
   ],
   "source": [
    "encode_trim(test_encode, trims)"
   ]
  },
  {
   "cell_type": "code",
   "execution_count": 137,
   "id": "e1a8e671",
   "metadata": {},
   "outputs": [],
   "source": [
    "#turn all training trims into vectors\n",
    "\n",
    "train_trims = pd.get_dummies(traindf['Vehicle_Trim'])"
   ]
  },
  {
   "cell_type": "code",
   "execution_count": 150,
   "id": "5ba70cf3",
   "metadata": {},
   "outputs": [],
   "source": [
    "trims = train_trims.columns"
   ]
  },
  {
   "cell_type": "code",
   "execution_count": 151,
   "id": "fb8a090b",
   "metadata": {},
   "outputs": [],
   "source": [
    "num_inputs = len(testdf.columns)\n",
    "num_outputs = len(trims)\n",
    "\n",
    "#create a model\n",
    "model = Sequential()\n",
    "model.add(Dense(num_inputs, activation='relu'))\n",
    "model.add(Dense(num_inputs, activation='relu'))\n",
    "model.add(Dense(num_outputs, activation = 'softmax'))\n",
    "\n",
    "model.compile(optimizer = 'adam', loss='categorical_crossentropy', metrics = ['accuracy'])"
   ]
  },
  {
   "cell_type": "code",
   "execution_count": 152,
   "id": "45870fa0",
   "metadata": {
    "scrolled": true
   },
   "outputs": [],
   "source": [
    "#train it!\n",
    "\n",
    "X = traindf.drop(columns = ['Dealer_Listing_Price','Vehicle_Trim'])\n",
    "y = train_trims"
   ]
  },
  {
   "cell_type": "code",
   "execution_count": 154,
   "id": "41142342",
   "metadata": {},
   "outputs": [],
   "source": [
    "epochs = 256\n",
    "batch_size = 256\n",
    "history = model.fit(\n",
    "    X,\n",
    "    y,\n",
    "    batch_size = batch_size,\n",
    "    epochs=epochs,\n",
    "    validation_split = 0.1,\n",
    "    verbose = False\n",
    ")"
   ]
  }
 ],
 "metadata": {
  "kernelspec": {
   "display_name": "Python 3 (ipykernel)",
   "language": "python",
   "name": "python3"
  },
  "language_info": {
   "codemirror_mode": {
    "name": "ipython",
    "version": 3
   },
   "file_extension": ".py",
   "mimetype": "text/x-python",
   "name": "python",
   "nbconvert_exporter": "python",
   "pygments_lexer": "ipython3",
   "version": "3.9.7"
  }
 },
 "nbformat": 4,
 "nbformat_minor": 5
}
