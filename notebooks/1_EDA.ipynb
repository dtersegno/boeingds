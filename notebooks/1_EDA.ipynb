{
 "cells": [
  {
   "cell_type": "markdown",
   "id": "0ba8c22d",
   "metadata": {},
   "source": [
    "EDA\n",
    "---"
   ]
  },
  {
   "cell_type": "code",
   "execution_count": 16,
   "id": "cef9e278",
   "metadata": {},
   "outputs": [],
   "source": [
    "#import libraries\n",
    "import os\n",
    "import pandas as pd\n",
    "import matplotlib.pyplot as plt\n",
    "import numpy as np\n",
    "import sklearn\n",
    "\n",
    "plt.style.use('dark_background')"
   ]
  },
  {
   "cell_type": "code",
   "execution_count": 17,
   "id": "ed334204",
   "metadata": {},
   "outputs": [
    {
     "name": "stdout",
     "output_type": "stream",
     "text": [
      "<class 'pandas.core.frame.DataFrame'>\n",
      "RangeIndex: 6298 entries, 0 to 6297\n",
      "Data columns (total 29 columns):\n",
      " #   Column                Non-Null Count  Dtype  \n",
      "---  ------                --------------  -----  \n",
      " 0   ListingID             6298 non-null   int64  \n",
      " 1   SellerCity            6298 non-null   object \n",
      " 2   SellerIsPriv          6298 non-null   bool   \n",
      " 3   SellerListSrc         6296 non-null   object \n",
      " 4   SellerName            6298 non-null   object \n",
      " 5   SellerRating          6298 non-null   float64\n",
      " 6   SellerRevCnt          6298 non-null   int64  \n",
      " 7   SellerState           6298 non-null   object \n",
      " 8   SellerZip             6296 non-null   float64\n",
      " 9   VehBodystyle          6298 non-null   object \n",
      " 10  VehCertified          6298 non-null   bool   \n",
      " 11  VehColorExt           6225 non-null   object \n",
      " 12  VehColorInt           5570 non-null   object \n",
      " 13  VehDriveTrain         5897 non-null   object \n",
      " 14  VehEngine             5937 non-null   object \n",
      " 15  VehFeats              6023 non-null   object \n",
      " 16  VehFuel               6296 non-null   object \n",
      " 17  VehHistory            6097 non-null   object \n",
      " 18  VehListdays           6296 non-null   float64\n",
      " 19  VehMake               6298 non-null   object \n",
      " 20  VehMileage            6296 non-null   float64\n",
      " 21  VehModel              6298 non-null   object \n",
      " 22  VehPriceLabel         6013 non-null   object \n",
      " 23  VehSellerNotes        6055 non-null   object \n",
      " 24  VehType               6298 non-null   object \n",
      " 25  VehTransmission       6101 non-null   object \n",
      " 26  VehYear               6298 non-null   int64  \n",
      " 27  Vehicle_Trim          5893 non-null   object \n",
      " 28  Dealer_Listing_Price  6246 non-null   float64\n",
      "dtypes: bool(2), float64(5), int64(3), object(19)\n",
      "memory usage: 1.3+ MB\n"
     ]
    }
   ],
   "source": [
    "#import data\n",
    "data_path = '../data/'\n",
    "train_data_filename = 'Training_DataSet.csv'\n",
    "test_data_filename = 'Test_Dataset.csv'\n",
    "\n",
    "traindf = pd.read_csv(data_path + train_data_filename)\n",
    "traindf.info()"
   ]
  },
  {
   "cell_type": "code",
   "execution_count": 18,
   "id": "2a239866",
   "metadata": {},
   "outputs": [
    {
     "data": {
      "text/html": [
       "<div>\n",
       "<style scoped>\n",
       "    .dataframe tbody tr th:only-of-type {\n",
       "        vertical-align: middle;\n",
       "    }\n",
       "\n",
       "    .dataframe tbody tr th {\n",
       "        vertical-align: top;\n",
       "    }\n",
       "\n",
       "    .dataframe thead th {\n",
       "        text-align: right;\n",
       "    }\n",
       "</style>\n",
       "<table border=\"1\" class=\"dataframe\">\n",
       "  <thead>\n",
       "    <tr style=\"text-align: right;\">\n",
       "      <th></th>\n",
       "      <th>ListingID</th>\n",
       "      <th>SellerRating</th>\n",
       "      <th>SellerRevCnt</th>\n",
       "      <th>SellerZip</th>\n",
       "      <th>VehListdays</th>\n",
       "      <th>VehMileage</th>\n",
       "      <th>VehYear</th>\n",
       "      <th>Dealer_Listing_Price</th>\n",
       "    </tr>\n",
       "  </thead>\n",
       "  <tbody>\n",
       "    <tr>\n",
       "      <th>count</th>\n",
       "      <td>6.298000e+03</td>\n",
       "      <td>6298.000000</td>\n",
       "      <td>6298.000000</td>\n",
       "      <td>6296.000000</td>\n",
       "      <td>6296.000000</td>\n",
       "      <td>6296.000000</td>\n",
       "      <td>6298.000000</td>\n",
       "      <td>6246.000000</td>\n",
       "    </tr>\n",
       "    <tr>\n",
       "      <th>mean</th>\n",
       "      <td>4.318130e+06</td>\n",
       "      <td>4.138346</td>\n",
       "      <td>434.565576</td>\n",
       "      <td>45234.211722</td>\n",
       "      <td>56.143670</td>\n",
       "      <td>26369.364358</td>\n",
       "      <td>2016.792633</td>\n",
       "      <td>32265.053314</td>\n",
       "    </tr>\n",
       "    <tr>\n",
       "      <th>std</th>\n",
       "      <td>2.486031e+06</td>\n",
       "      <td>1.188033</td>\n",
       "      <td>1274.257411</td>\n",
       "      <td>20380.478191</td>\n",
       "      <td>68.301329</td>\n",
       "      <td>13036.568712</td>\n",
       "      <td>1.206566</td>\n",
       "      <td>7538.339005</td>\n",
       "    </tr>\n",
       "    <tr>\n",
       "      <th>min</th>\n",
       "      <td>3.287000e+03</td>\n",
       "      <td>0.000000</td>\n",
       "      <td>0.000000</td>\n",
       "      <td>1105.000000</td>\n",
       "      <td>0.293102</td>\n",
       "      <td>0.000000</td>\n",
       "      <td>2015.000000</td>\n",
       "      <td>18289.000000</td>\n",
       "    </tr>\n",
       "    <tr>\n",
       "      <th>25%</th>\n",
       "      <td>2.178112e+06</td>\n",
       "      <td>4.000000</td>\n",
       "      <td>28.000000</td>\n",
       "      <td>28806.000000</td>\n",
       "      <td>12.998391</td>\n",
       "      <td>16835.000000</td>\n",
       "      <td>2015.000000</td>\n",
       "      <td>26900.000000</td>\n",
       "    </tr>\n",
       "    <tr>\n",
       "      <th>50%</th>\n",
       "      <td>4.298122e+06</td>\n",
       "      <td>4.600000</td>\n",
       "      <td>126.000000</td>\n",
       "      <td>46410.000000</td>\n",
       "      <td>33.463484</td>\n",
       "      <td>26181.000000</td>\n",
       "      <td>2017.000000</td>\n",
       "      <td>31455.500000</td>\n",
       "    </tr>\n",
       "    <tr>\n",
       "      <th>75%</th>\n",
       "      <td>6.488249e+06</td>\n",
       "      <td>4.800000</td>\n",
       "      <td>401.000000</td>\n",
       "      <td>60126.000000</td>\n",
       "      <td>74.139769</td>\n",
       "      <td>36468.500000</td>\n",
       "      <td>2018.000000</td>\n",
       "      <td>35991.000000</td>\n",
       "    </tr>\n",
       "    <tr>\n",
       "      <th>max</th>\n",
       "      <td>8.620012e+06</td>\n",
       "      <td>5.000000</td>\n",
       "      <td>14635.000000</td>\n",
       "      <td>99654.000000</td>\n",
       "      <td>820.684375</td>\n",
       "      <td>83037.000000</td>\n",
       "      <td>2019.000000</td>\n",
       "      <td>89500.000000</td>\n",
       "    </tr>\n",
       "  </tbody>\n",
       "</table>\n",
       "</div>"
      ],
      "text/plain": [
       "          ListingID  SellerRating  SellerRevCnt     SellerZip  VehListdays  \\\n",
       "count  6.298000e+03   6298.000000   6298.000000   6296.000000  6296.000000   \n",
       "mean   4.318130e+06      4.138346    434.565576  45234.211722    56.143670   \n",
       "std    2.486031e+06      1.188033   1274.257411  20380.478191    68.301329   \n",
       "min    3.287000e+03      0.000000      0.000000   1105.000000     0.293102   \n",
       "25%    2.178112e+06      4.000000     28.000000  28806.000000    12.998391   \n",
       "50%    4.298122e+06      4.600000    126.000000  46410.000000    33.463484   \n",
       "75%    6.488249e+06      4.800000    401.000000  60126.000000    74.139769   \n",
       "max    8.620012e+06      5.000000  14635.000000  99654.000000   820.684375   \n",
       "\n",
       "         VehMileage      VehYear  Dealer_Listing_Price  \n",
       "count   6296.000000  6298.000000           6246.000000  \n",
       "mean   26369.364358  2016.792633          32265.053314  \n",
       "std    13036.568712     1.206566           7538.339005  \n",
       "min        0.000000  2015.000000          18289.000000  \n",
       "25%    16835.000000  2015.000000          26900.000000  \n",
       "50%    26181.000000  2017.000000          31455.500000  \n",
       "75%    36468.500000  2018.000000          35991.000000  \n",
       "max    83037.000000  2019.000000          89500.000000  "
      ]
     },
     "execution_count": 18,
     "metadata": {},
     "output_type": "execute_result"
    }
   ],
   "source": [
    "#look at basic statistics of numeric data\n",
    "traindf.describe()"
   ]
  },
  {
   "cell_type": "markdown",
   "id": "fa9816b0",
   "metadata": {},
   "source": [
    "---\n",
    "# Listing ID\n",
    "---"
   ]
  },
  {
   "cell_type": "code",
   "execution_count": 26,
   "id": "ebd10f61",
   "metadata": {},
   "outputs": [
    {
     "data": {
      "text/plain": [
       "<AxesSubplot:>"
      ]
     },
     "execution_count": 26,
     "metadata": {},
     "output_type": "execute_result"
    },
    {
     "data": {
      "image/png": "[encoded data removed]",
      "text/plain": [
       "<Figure size 432x288 with 1 Axes>"
      ]
     },
     "metadata": {},
     "output_type": "display_data"
    }
   ],
   "source": [
    "# 'ListingID' monotonically increases, approxmately linearly, with index.\n",
    "testdf.ListingID.plot()"
   ]
  },
  {
   "cell_type": "code",
   "execution_count": 21,
   "id": "fee31bb4",
   "metadata": {},
   "outputs": [
    {
     "data": {
      "text/plain": [
       "<AxesSubplot:>"
      ]
     },
     "execution_count": 21,
     "metadata": {},
     "output_type": "execute_result"
    },
    {
     "data": {
      "image/png": "[encoded data removed]",
      "text/plain": [
       "<Figure size 432x288 with 1 Axes>"
      ]
     },
     "metadata": {},
     "output_type": "display_data"
    }
   ],
   "source": [
    "#Increase of subsequent IDs is always positive but variable.\n",
    "testdf.ListingID.diff().plot()"
   ]
  },
  {
   "cell_type": "code",
   "execution_count": 24,
   "id": "44e02498",
   "metadata": {},
   "outputs": [
    {
     "data": {
      "text/plain": [
       "<AxesSubplot:>"
      ]
     },
     "execution_count": 24,
     "metadata": {},
     "output_type": "execute_result"
    },
    {
     "data": {
      "image/png": "[encoded data removed]",
      "text/plain": [
       "<Figure size 432x288 with 1 Axes>"
      ]
     },
     "metadata": {},
     "output_type": "display_data"
    }
   ],
   "source": [
    "#The distribution of the increase is exponentially decaying with larger skips.\n",
    "testdf.ListingID.diff().hist(bins = 30, log = True)"
   ]
  },
  {
   "cell_type": "markdown",
   "id": "a490c241",
   "metadata": {},
   "source": [
    "# SellerCity\n",
    "These all appear to be USA cities. Top represented cities largely not from the west coast?"
   ]
  },
  {
   "cell_type": "code",
   "execution_count": 51,
   "id": "1c0a2c6b",
   "metadata": {
    "scrolled": false
   },
   "outputs": [
    {
     "data": {
      "image/png": "[encoded data removed]",
      "text/plain": [
       "<Figure size 432x288 with 1 Axes>"
      ]
     },
     "metadata": {},
     "output_type": "display_data"
    }
   ],
   "source": [
    "#plot number of instances of sales from the most represented cities\n",
    "scvaluecounts = traindf.SellerCity.value_counts()[:20];\n",
    "plt.barh(scvaluecounts.index, scvaluecounts);"
   ]
  },
  {
   "cell_type": "code",
   "execution_count": 53,
   "id": "4b7ad3d9",
   "metadata": {},
   "outputs": [
    {
     "data": {
      "text/plain": [
       "1318"
      ]
     },
     "execution_count": 53,
     "metadata": {},
     "output_type": "execute_result"
    }
   ],
   "source": [
    "#how many cities are represented?\n",
    "len(traindf.SellerCity.unique())"
   ]
  },
  {
   "cell_type": "markdown",
   "id": "d81f4915",
   "metadata": {},
   "source": [
    "---\n",
    "# SellerIsPriv\n",
    "\n",
    "If private seller. (Is a dealership a non-private seller?)"
   ]
  },
  {
   "cell_type": "code",
   "execution_count": 62,
   "id": "bcfb70ff",
   "metadata": {},
   "outputs": [
    {
     "data": {
      "text/plain": [
       "False    6284\n",
       "True       14\n",
       "Name: SellerIsPriv, dtype: int64"
      ]
     },
     "execution_count": 62,
     "metadata": {},
     "output_type": "execute_result"
    }
   ],
   "source": [
    "#Only 14 of the listings are listed as private. This may cause overfitting.\n",
    "priv"
   ]
  },
  {
   "cell_type": "markdown",
   "id": "825a106f",
   "metadata": {},
   "source": [
    "---"
   ]
  },
  {
   "cell_type": "code",
   "execution_count": 27,
   "id": "68b4b2bb",
   "metadata": {
    "scrolled": true
   },
   "outputs": [
    {
     "name": "stdout",
     "output_type": "stream",
     "text": [
      "<class 'pandas.core.frame.DataFrame'>\n",
      "RangeIndex: 6298 entries, 0 to 6297\n",
      "Data columns (total 29 columns):\n",
      " #   Column                Non-Null Count  Dtype  \n",
      "---  ------                --------------  -----  \n",
      " 0   ListingID             6298 non-null   int64  \n",
      " 1   SellerCity            6298 non-null   object \n",
      " 2   SellerIsPriv          6298 non-null   bool   \n",
      " 3   SellerListSrc         6296 non-null   object \n",
      " 4   SellerName            6298 non-null   object \n",
      " 5   SellerRating          6298 non-null   float64\n",
      " 6   SellerRevCnt          6298 non-null   int64  \n",
      " 7   SellerState           6298 non-null   object \n",
      " 8   SellerZip             6296 non-null   float64\n",
      " 9   VehBodystyle          6298 non-null   object \n",
      " 10  VehCertified          6298 non-null   bool   \n",
      " 11  VehColorExt           6225 non-null   object \n",
      " 12  VehColorInt           5570 non-null   object \n",
      " 13  VehDriveTrain         5897 non-null   object \n",
      " 14  VehEngine             5937 non-null   object \n",
      " 15  VehFeats              6023 non-null   object \n",
      " 16  VehFuel               6296 non-null   object \n",
      " 17  VehHistory            6097 non-null   object \n",
      " 18  VehListdays           6296 non-null   float64\n",
      " 19  VehMake               6298 non-null   object \n",
      " 20  VehMileage            6296 non-null   float64\n",
      " 21  VehModel              6298 non-null   object \n",
      " 22  VehPriceLabel         6013 non-null   object \n",
      " 23  VehSellerNotes        6055 non-null   object \n",
      " 24  VehType               6298 non-null   object \n",
      " 25  VehTransmission       6101 non-null   object \n",
      " 26  VehYear               6298 non-null   int64  \n",
      " 27  Vehicle_Trim          5893 non-null   object \n",
      " 28  Dealer_Listing_Price  6246 non-null   float64\n",
      "dtypes: bool(2), float64(5), int64(3), object(19)\n",
      "memory usage: 1.3+ MB\n"
     ]
    }
   ],
   "source": [
    "traindf.info()"
   ]
  },
  {
   "cell_type": "code",
   "execution_count": null,
   "id": "2af2a8c0",
   "metadata": {},
   "outputs": [],
   "source": [
    "a"
   ]
  }
 ],
 "metadata": {
  "kernelspec": {
   "display_name": "Python 3 (ipykernel)",
   "language": "python",
   "name": "python3"
  },
  "language_info": {
   "codemirror_mode": {
    "name": "ipython",
    "version": 3
   },
   "file_extension": ".py",
   "mimetype": "text/x-python",
   "name": "python",
   "nbconvert_exporter": "python",
   "pygments_lexer": "ipython3",
   "version": "3.9.7"
  }
 },
 "nbformat": 4,
 "nbformat_minor": 5
}
