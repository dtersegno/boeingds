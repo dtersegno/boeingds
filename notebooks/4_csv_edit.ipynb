{
 "cells": [
  {
   "cell_type": "markdown",
   "id": "22ab18eb",
   "metadata": {},
   "source": [
    "This notebook just reorders the csv columns for submission."
   ]
  },
  {
   "cell_type": "code",
   "execution_count": 6,
   "id": "3f187378",
   "metadata": {},
   "outputs": [],
   "source": [
    "import pandas as pd\n",
    "\n",
    "prediction_path = '../predictions.csv'\n",
    "preds = pd.read_csv(prediction_path, index_col = 'Unnamed: 0')"
   ]
  },
  {
   "cell_type": "code",
   "execution_count": 12,
   "id": "352af17f",
   "metadata": {},
   "outputs": [
    {
     "data": {
      "text/html": [
       "<div>\n",
       "<style scoped>\n",
       "    .dataframe tbody tr th:only-of-type {\n",
       "        vertical-align: middle;\n",
       "    }\n",
       "\n",
       "    .dataframe tbody tr th {\n",
       "        vertical-align: top;\n",
       "    }\n",
       "\n",
       "    .dataframe thead th {\n",
       "        text-align: right;\n",
       "    }\n",
       "</style>\n",
       "<table border=\"1\" class=\"dataframe\">\n",
       "  <thead>\n",
       "    <tr style=\"text-align: right;\">\n",
       "      <th></th>\n",
       "      <th>Vehicle_Trim</th>\n",
       "      <th>Dealer_List_Price</th>\n",
       "    </tr>\n",
       "  </thead>\n",
       "  <tbody>\n",
       "    <tr>\n",
       "      <th>0</th>\n",
       "      <td>Limited</td>\n",
       "      <td>43402.905300</td>\n",
       "    </tr>\n",
       "    <tr>\n",
       "      <th>1</th>\n",
       "      <td>Limited</td>\n",
       "      <td>21655.212581</td>\n",
       "    </tr>\n",
       "    <tr>\n",
       "      <th>2</th>\n",
       "      <td>Limited</td>\n",
       "      <td>22108.147940</td>\n",
       "    </tr>\n",
       "    <tr>\n",
       "      <th>3</th>\n",
       "      <td>Limited</td>\n",
       "      <td>24701.152495</td>\n",
       "    </tr>\n",
       "    <tr>\n",
       "      <th>4</th>\n",
       "      <td>Limited</td>\n",
       "      <td>40854.385239</td>\n",
       "    </tr>\n",
       "    <tr>\n",
       "      <th>...</th>\n",
       "      <td>...</td>\n",
       "      <td>...</td>\n",
       "    </tr>\n",
       "    <tr>\n",
       "      <th>995</th>\n",
       "      <td>Limited</td>\n",
       "      <td>33344.387246</td>\n",
       "    </tr>\n",
       "    <tr>\n",
       "      <th>996</th>\n",
       "      <td>Limited</td>\n",
       "      <td>35429.419922</td>\n",
       "    </tr>\n",
       "    <tr>\n",
       "      <th>997</th>\n",
       "      <td>Limited</td>\n",
       "      <td>42498.278455</td>\n",
       "    </tr>\n",
       "    <tr>\n",
       "      <th>998</th>\n",
       "      <td>Premium Luxury</td>\n",
       "      <td>46828.779463</td>\n",
       "    </tr>\n",
       "    <tr>\n",
       "      <th>999</th>\n",
       "      <td>Limited</td>\n",
       "      <td>39383.038540</td>\n",
       "    </tr>\n",
       "  </tbody>\n",
       "</table>\n",
       "<p>1000 rows × 2 columns</p>\n",
       "</div>"
      ],
      "text/plain": [
       "       Vehicle_Trim  Dealer_List_Price\n",
       "0           Limited       43402.905300\n",
       "1           Limited       21655.212581\n",
       "2           Limited       22108.147940\n",
       "3           Limited       24701.152495\n",
       "4           Limited       40854.385239\n",
       "..              ...                ...\n",
       "995         Limited       33344.387246\n",
       "996         Limited       35429.419922\n",
       "997         Limited       42498.278455\n",
       "998  Premium Luxury       46828.779463\n",
       "999         Limited       39383.038540\n",
       "\n",
       "[1000 rows x 2 columns]"
      ]
     },
     "execution_count": 12,
     "metadata": {},
     "output_type": "execute_result"
    }
   ],
   "source": [
    "preds = preds[list(reversed(preds.columns))]\n",
    "preds"
   ]
  },
  {
   "cell_type": "code",
   "execution_count": 13,
   "id": "589446e6",
   "metadata": {},
   "outputs": [],
   "source": [
    "preds.to_csv(prediction_path)"
   ]
  },
  {
   "cell_type": "code",
   "execution_count": null,
   "id": "dca53561",
   "metadata": {},
   "outputs": [],
   "source": []
  }
 ],
 "metadata": {
  "kernelspec": {
   "display_name": "Python 3 (ipykernel)",
   "language": "python",
   "name": "python3"
  },
  "language_info": {
   "codemirror_mode": {
    "name": "ipython",
    "version": 3
   },
   "file_extension": ".py",
   "mimetype": "text/x-python",
   "name": "python",
   "nbconvert_exporter": "python",
   "pygments_lexer": "ipython3",
   "version": "3.9.7"
  }
 },
 "nbformat": 4,
 "nbformat_minor": 5
}
